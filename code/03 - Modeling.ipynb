{
 "cells": [
  {
   "cell_type": "markdown",
   "id": "f821700f-da76-4909-8622-644547608b15",
   "metadata": {},
   "source": [
    "## Imports"
   ]
  },
  {
   "cell_type": "code",
   "execution_count": 1,
   "id": "d7e50a1f-45ad-4000-9f28-7f77cc1c61f2",
   "metadata": {},
   "outputs": [],
   "source": [
    "import pandas as pd\n",
    "import matplotlib.pyplot as plt\n",
    "import numpy as np\n",
    "import seaborn as sns\n",
    "\n",
    "from sklearn.feature_extraction.text import CountVectorizer, TfidfVectorizer\n",
    "from sklearn.feature_extraction import text\n",
    "from sklearn.metrics import confusion_matrix, plot_confusion_matrix\n",
    "from sklearn.model_selection import train_test_split, GridSearchCV\n",
    "from sklearn.pipeline import Pipeline\n",
    "\n",
    "from sklearn.linear_model import LogisticRegression\n",
    "from sklearn.neighbors import KNeighborsClassifier\n",
    "from sklearn.naive_bayes import MultinomialNB\n",
    "from sklearn.ensemble import RandomForestClassifier, ExtraTreesClassifier\n",
    "\n",
    "from nltk.corpus import stopwords\n",
    "\n",
    "pd.options.display.max_colwidth = 500\n",
    "pd.options.display.max_rows = 500"
   ]
  },
  {
   "cell_type": "code",
   "execution_count": 2,
   "id": "c48c97df-8502-4aa4-8caf-3ee72fed1220",
   "metadata": {},
   "outputs": [],
   "source": [
    "bigdf = pd.read_csv('../data/modelreadydata.csv')"
   ]
  },
  {
   "cell_type": "code",
   "execution_count": 3,
   "id": "d64b0a3d-974e-4e57-ab1b-faec93981f7f",
   "metadata": {},
   "outputs": [
    {
     "data": {
      "text/html": [
       "<div>\n",
       "<style scoped>\n",
       "    .dataframe tbody tr th:only-of-type {\n",
       "        vertical-align: middle;\n",
       "    }\n",
       "\n",
       "    .dataframe tbody tr th {\n",
       "        vertical-align: top;\n",
       "    }\n",
       "\n",
       "    .dataframe thead th {\n",
       "        text-align: right;\n",
       "    }\n",
       "</style>\n",
       "<table border=\"1\" class=\"dataframe\">\n",
       "  <thead>\n",
       "    <tr style=\"text-align: right;\">\n",
       "      <th></th>\n",
       "      <th>subreddit</th>\n",
       "      <th>body</th>\n",
       "      <th>lemmatized</th>\n",
       "      <th>stemmed</th>\n",
       "      <th>stardew_keywords</th>\n",
       "      <th>elden_keywords</th>\n",
       "      <th>type</th>\n",
       "    </tr>\n",
       "  </thead>\n",
       "  <tbody>\n",
       "    <tr>\n",
       "      <th>0</th>\n",
       "      <td>0</td>\n",
       "      <td>It is almost time my fellow hollows</td>\n",
       "      <td>It is almost time my fellow hollow</td>\n",
       "      <td>it is almost time my fellow hollow</td>\n",
       "      <td>0</td>\n",
       "      <td>0</td>\n",
       "      <td>Posts</td>\n",
       "    </tr>\n",
       "    <tr>\n",
       "      <th>1</th>\n",
       "      <td>0</td>\n",
       "      <td>24 Hours yet remain</td>\n",
       "      <td>24 Hours yet remain</td>\n",
       "      <td>24 hour yet remain</td>\n",
       "      <td>0</td>\n",
       "      <td>0</td>\n",
       "      <td>Posts</td>\n",
       "    </tr>\n",
       "    <tr>\n",
       "      <th>2</th>\n",
       "      <td>0</td>\n",
       "      <td>Your worst nightmares</td>\n",
       "      <td>Your worst nightmare</td>\n",
       "      <td>your worst nightmar</td>\n",
       "      <td>0</td>\n",
       "      <td>0</td>\n",
       "      <td>Posts</td>\n",
       "    </tr>\n",
       "  </tbody>\n",
       "</table>\n",
       "</div>"
      ],
      "text/plain": [
       "   subreddit                                   body  \\\n",
       "0          0  It is almost time my fellow hollows     \n",
       "1          0                  24 Hours yet remain     \n",
       "2          0                Your worst nightmares     \n",
       "\n",
       "                           lemmatized                             stemmed  \\\n",
       "0  It is almost time my fellow hollow  it is almost time my fellow hollow   \n",
       "1                 24 Hours yet remain                  24 hour yet remain   \n",
       "2                Your worst nightmare                 your worst nightmar   \n",
       "\n",
       "   stardew_keywords  elden_keywords   type  \n",
       "0                 0               0  Posts  \n",
       "1                 0               0  Posts  \n",
       "2                 0               0  Posts  "
      ]
     },
     "execution_count": 3,
     "metadata": {},
     "output_type": "execute_result"
    }
   ],
   "source": [
    "bigdf.head(3)"
   ]
  },
  {
   "cell_type": "markdown",
   "id": "626698d3-10e8-4cce-97eb-f040f4c236e9",
   "metadata": {},
   "source": [
    "### Baseline"
   ]
  },
  {
   "cell_type": "code",
   "execution_count": 4,
   "id": "4d976a31-25a7-4dd9-9024-092aa7bb56f6",
   "metadata": {},
   "outputs": [
    {
     "data": {
      "text/plain": [
       "1    0.501004\n",
       "0    0.498996\n",
       "Name: subreddit, dtype: float64"
      ]
     },
     "execution_count": 4,
     "metadata": {},
     "output_type": "execute_result"
    }
   ],
   "source": [
    "bigdf['subreddit'].value_counts(normalize=True)"
   ]
  },
  {
   "cell_type": "markdown",
   "id": "06f669e9-f6b6-4af7-a2c8-417c59913ab0",
   "metadata": {},
   "source": [
    "### Preprocessing"
   ]
  },
  {
   "cell_type": "code",
   "execution_count": 5,
   "id": "6d7952c2-a787-4cbb-964f-ac723ce5f0d5",
   "metadata": {},
   "outputs": [],
   "source": [
    "X = bigdf['body']\n",
    "y = bigdf['subreddit']\n",
    "\n",
    "X_train, X_test, y_train, y_test = train_test_split(X, y, stratify=y)"
   ]
  },
  {
   "cell_type": "code",
   "execution_count": 6,
   "id": "00723a98-fd09-499c-98ba-1fe56a25baf8",
   "metadata": {},
   "outputs": [],
   "source": [
    "#set up stopwords and count vectorize\n",
    "\n",
    "stopwordsdf = pd.read_csv('../data/stopwords.csv')\n",
    "\n",
    "custom_stopwords = list(stopwordsdf['words'])\n",
    "\n",
    "stop_words = text.ENGLISH_STOP_WORDS.union(custom_stopwords)\n",
    "\n",
    "cvec = CountVectorizer(stop_words=stop_words)\n",
    "\n",
    "X_train_vectorized = cvec.fit_transform(X_train)\n",
    "X_test_vectorized = cvec.transform(X_test)\n",
    "\n",
    "X_traindf = pd.DataFrame(X_train_vectorized.todense(), columns=cvec.get_feature_names())\n",
    "X_testdf = pd.DataFrame(X_test_vectorized.todense(), columns=cvec.get_feature_names())"
   ]
  },
  {
   "cell_type": "code",
   "execution_count": 7,
   "id": "fa0a2593-6d41-4259-9756-cee86227a39d",
   "metadata": {},
   "outputs": [
    {
     "data": {
      "text/html": [
       "<div>\n",
       "<style scoped>\n",
       "    .dataframe tbody tr th:only-of-type {\n",
       "        vertical-align: middle;\n",
       "    }\n",
       "\n",
       "    .dataframe tbody tr th {\n",
       "        vertical-align: top;\n",
       "    }\n",
       "\n",
       "    .dataframe thead th {\n",
       "        text-align: right;\n",
       "    }\n",
       "</style>\n",
       "<table border=\"1\" class=\"dataframe\">\n",
       "  <thead>\n",
       "    <tr style=\"text-align: right;\">\n",
       "      <th></th>\n",
       "      <th>000</th>\n",
       "      <th>0000</th>\n",
       "      <th>009</th>\n",
       "      <th>01</th>\n",
       "      <th>0100</th>\n",
       "      <th>0165</th>\n",
       "      <th>02</th>\n",
       "      <th>02875</th>\n",
       "      <th>06</th>\n",
       "      <th>0641</th>\n",
       "      <th>...</th>\n",
       "      <th>zoomzoom</th>\n",
       "      <th>zuckerberg</th>\n",
       "      <th>zullie</th>\n",
       "      <th>zullies</th>\n",
       "      <th>zuzu</th>\n",
       "      <th>zweiboy</th>\n",
       "      <th>zweihander</th>\n",
       "      <th>äny</th>\n",
       "      <th>ಠ_ಠ</th>\n",
       "      <th>𝘴𝘭𝘰𝘷𝘤𝘩𝘺</th>\n",
       "    </tr>\n",
       "  </thead>\n",
       "  <tbody>\n",
       "    <tr>\n",
       "      <th>count</th>\n",
       "      <td>4482.000000</td>\n",
       "      <td>4482.000000</td>\n",
       "      <td>4482.000000</td>\n",
       "      <td>4482.000000</td>\n",
       "      <td>4482.000000</td>\n",
       "      <td>4482.000000</td>\n",
       "      <td>4482.000000</td>\n",
       "      <td>4482.000000</td>\n",
       "      <td>4482.000000</td>\n",
       "      <td>4482.000000</td>\n",
       "      <td>...</td>\n",
       "      <td>4482.000000</td>\n",
       "      <td>4482.000000</td>\n",
       "      <td>4482.000000</td>\n",
       "      <td>4482.000000</td>\n",
       "      <td>4482.000000</td>\n",
       "      <td>4482.000000</td>\n",
       "      <td>4482.000000</td>\n",
       "      <td>4482.000000</td>\n",
       "      <td>4482.000000</td>\n",
       "      <td>4482.000000</td>\n",
       "    </tr>\n",
       "    <tr>\n",
       "      <th>mean</th>\n",
       "      <td>0.000223</td>\n",
       "      <td>0.000223</td>\n",
       "      <td>0.000223</td>\n",
       "      <td>0.000446</td>\n",
       "      <td>0.000446</td>\n",
       "      <td>0.000223</td>\n",
       "      <td>0.000669</td>\n",
       "      <td>0.000223</td>\n",
       "      <td>0.000223</td>\n",
       "      <td>0.000223</td>\n",
       "      <td>...</td>\n",
       "      <td>0.000223</td>\n",
       "      <td>0.000223</td>\n",
       "      <td>0.000223</td>\n",
       "      <td>0.000223</td>\n",
       "      <td>0.000446</td>\n",
       "      <td>0.000223</td>\n",
       "      <td>0.000223</td>\n",
       "      <td>0.000223</td>\n",
       "      <td>0.000223</td>\n",
       "      <td>0.000223</td>\n",
       "    </tr>\n",
       "    <tr>\n",
       "      <th>std</th>\n",
       "      <td>0.014937</td>\n",
       "      <td>0.014937</td>\n",
       "      <td>0.014937</td>\n",
       "      <td>0.029874</td>\n",
       "      <td>0.021122</td>\n",
       "      <td>0.014937</td>\n",
       "      <td>0.025866</td>\n",
       "      <td>0.014937</td>\n",
       "      <td>0.014937</td>\n",
       "      <td>0.014937</td>\n",
       "      <td>...</td>\n",
       "      <td>0.014937</td>\n",
       "      <td>0.014937</td>\n",
       "      <td>0.014937</td>\n",
       "      <td>0.014937</td>\n",
       "      <td>0.021122</td>\n",
       "      <td>0.014937</td>\n",
       "      <td>0.014937</td>\n",
       "      <td>0.014937</td>\n",
       "      <td>0.014937</td>\n",
       "      <td>0.014937</td>\n",
       "    </tr>\n",
       "    <tr>\n",
       "      <th>min</th>\n",
       "      <td>0.000000</td>\n",
       "      <td>0.000000</td>\n",
       "      <td>0.000000</td>\n",
       "      <td>0.000000</td>\n",
       "      <td>0.000000</td>\n",
       "      <td>0.000000</td>\n",
       "      <td>0.000000</td>\n",
       "      <td>0.000000</td>\n",
       "      <td>0.000000</td>\n",
       "      <td>0.000000</td>\n",
       "      <td>...</td>\n",
       "      <td>0.000000</td>\n",
       "      <td>0.000000</td>\n",
       "      <td>0.000000</td>\n",
       "      <td>0.000000</td>\n",
       "      <td>0.000000</td>\n",
       "      <td>0.000000</td>\n",
       "      <td>0.000000</td>\n",
       "      <td>0.000000</td>\n",
       "      <td>0.000000</td>\n",
       "      <td>0.000000</td>\n",
       "    </tr>\n",
       "    <tr>\n",
       "      <th>25%</th>\n",
       "      <td>0.000000</td>\n",
       "      <td>0.000000</td>\n",
       "      <td>0.000000</td>\n",
       "      <td>0.000000</td>\n",
       "      <td>0.000000</td>\n",
       "      <td>0.000000</td>\n",
       "      <td>0.000000</td>\n",
       "      <td>0.000000</td>\n",
       "      <td>0.000000</td>\n",
       "      <td>0.000000</td>\n",
       "      <td>...</td>\n",
       "      <td>0.000000</td>\n",
       "      <td>0.000000</td>\n",
       "      <td>0.000000</td>\n",
       "      <td>0.000000</td>\n",
       "      <td>0.000000</td>\n",
       "      <td>0.000000</td>\n",
       "      <td>0.000000</td>\n",
       "      <td>0.000000</td>\n",
       "      <td>0.000000</td>\n",
       "      <td>0.000000</td>\n",
       "    </tr>\n",
       "    <tr>\n",
       "      <th>50%</th>\n",
       "      <td>0.000000</td>\n",
       "      <td>0.000000</td>\n",
       "      <td>0.000000</td>\n",
       "      <td>0.000000</td>\n",
       "      <td>0.000000</td>\n",
       "      <td>0.000000</td>\n",
       "      <td>0.000000</td>\n",
       "      <td>0.000000</td>\n",
       "      <td>0.000000</td>\n",
       "      <td>0.000000</td>\n",
       "      <td>...</td>\n",
       "      <td>0.000000</td>\n",
       "      <td>0.000000</td>\n",
       "      <td>0.000000</td>\n",
       "      <td>0.000000</td>\n",
       "      <td>0.000000</td>\n",
       "      <td>0.000000</td>\n",
       "      <td>0.000000</td>\n",
       "      <td>0.000000</td>\n",
       "      <td>0.000000</td>\n",
       "      <td>0.000000</td>\n",
       "    </tr>\n",
       "    <tr>\n",
       "      <th>75%</th>\n",
       "      <td>0.000000</td>\n",
       "      <td>0.000000</td>\n",
       "      <td>0.000000</td>\n",
       "      <td>0.000000</td>\n",
       "      <td>0.000000</td>\n",
       "      <td>0.000000</td>\n",
       "      <td>0.000000</td>\n",
       "      <td>0.000000</td>\n",
       "      <td>0.000000</td>\n",
       "      <td>0.000000</td>\n",
       "      <td>...</td>\n",
       "      <td>0.000000</td>\n",
       "      <td>0.000000</td>\n",
       "      <td>0.000000</td>\n",
       "      <td>0.000000</td>\n",
       "      <td>0.000000</td>\n",
       "      <td>0.000000</td>\n",
       "      <td>0.000000</td>\n",
       "      <td>0.000000</td>\n",
       "      <td>0.000000</td>\n",
       "      <td>0.000000</td>\n",
       "    </tr>\n",
       "    <tr>\n",
       "      <th>max</th>\n",
       "      <td>1.000000</td>\n",
       "      <td>1.000000</td>\n",
       "      <td>1.000000</td>\n",
       "      <td>2.000000</td>\n",
       "      <td>1.000000</td>\n",
       "      <td>1.000000</td>\n",
       "      <td>1.000000</td>\n",
       "      <td>1.000000</td>\n",
       "      <td>1.000000</td>\n",
       "      <td>1.000000</td>\n",
       "      <td>...</td>\n",
       "      <td>1.000000</td>\n",
       "      <td>1.000000</td>\n",
       "      <td>1.000000</td>\n",
       "      <td>1.000000</td>\n",
       "      <td>1.000000</td>\n",
       "      <td>1.000000</td>\n",
       "      <td>1.000000</td>\n",
       "      <td>1.000000</td>\n",
       "      <td>1.000000</td>\n",
       "      <td>1.000000</td>\n",
       "    </tr>\n",
       "  </tbody>\n",
       "</table>\n",
       "<p>8 rows × 9343 columns</p>\n",
       "</div>"
      ],
      "text/plain": [
       "               000         0000          009           01         0100  \\\n",
       "count  4482.000000  4482.000000  4482.000000  4482.000000  4482.000000   \n",
       "mean      0.000223     0.000223     0.000223     0.000446     0.000446   \n",
       "std       0.014937     0.014937     0.014937     0.029874     0.021122   \n",
       "min       0.000000     0.000000     0.000000     0.000000     0.000000   \n",
       "25%       0.000000     0.000000     0.000000     0.000000     0.000000   \n",
       "50%       0.000000     0.000000     0.000000     0.000000     0.000000   \n",
       "75%       0.000000     0.000000     0.000000     0.000000     0.000000   \n",
       "max       1.000000     1.000000     1.000000     2.000000     1.000000   \n",
       "\n",
       "              0165           02        02875           06         0641  ...  \\\n",
       "count  4482.000000  4482.000000  4482.000000  4482.000000  4482.000000  ...   \n",
       "mean      0.000223     0.000669     0.000223     0.000223     0.000223  ...   \n",
       "std       0.014937     0.025866     0.014937     0.014937     0.014937  ...   \n",
       "min       0.000000     0.000000     0.000000     0.000000     0.000000  ...   \n",
       "25%       0.000000     0.000000     0.000000     0.000000     0.000000  ...   \n",
       "50%       0.000000     0.000000     0.000000     0.000000     0.000000  ...   \n",
       "75%       0.000000     0.000000     0.000000     0.000000     0.000000  ...   \n",
       "max       1.000000     1.000000     1.000000     1.000000     1.000000  ...   \n",
       "\n",
       "          zoomzoom   zuckerberg       zullie      zullies         zuzu  \\\n",
       "count  4482.000000  4482.000000  4482.000000  4482.000000  4482.000000   \n",
       "mean      0.000223     0.000223     0.000223     0.000223     0.000446   \n",
       "std       0.014937     0.014937     0.014937     0.014937     0.021122   \n",
       "min       0.000000     0.000000     0.000000     0.000000     0.000000   \n",
       "25%       0.000000     0.000000     0.000000     0.000000     0.000000   \n",
       "50%       0.000000     0.000000     0.000000     0.000000     0.000000   \n",
       "75%       0.000000     0.000000     0.000000     0.000000     0.000000   \n",
       "max       1.000000     1.000000     1.000000     1.000000     1.000000   \n",
       "\n",
       "           zweiboy   zweihander          äny          ಠ_ಠ      𝘴𝘭𝘰𝘷𝘤𝘩𝘺  \n",
       "count  4482.000000  4482.000000  4482.000000  4482.000000  4482.000000  \n",
       "mean      0.000223     0.000223     0.000223     0.000223     0.000223  \n",
       "std       0.014937     0.014937     0.014937     0.014937     0.014937  \n",
       "min       0.000000     0.000000     0.000000     0.000000     0.000000  \n",
       "25%       0.000000     0.000000     0.000000     0.000000     0.000000  \n",
       "50%       0.000000     0.000000     0.000000     0.000000     0.000000  \n",
       "75%       0.000000     0.000000     0.000000     0.000000     0.000000  \n",
       "max       1.000000     1.000000     1.000000     1.000000     1.000000  \n",
       "\n",
       "[8 rows x 9343 columns]"
      ]
     },
     "execution_count": 7,
     "metadata": {},
     "output_type": "execute_result"
    }
   ],
   "source": [
    "X_traindf.describe()"
   ]
  },
  {
   "cell_type": "markdown",
   "id": "5078823e-319e-4e86-a9b7-a40ace0486fa",
   "metadata": {},
   "source": [
    "### Modeling: Logistic Regression\n",
    "- High predictive power, but overfit\n",
    "- Keyword columns didn't boost the predictive score so decided to drop. Makes sense since keyword columns produce the same information as count vectorized data\n",
    "- To combat overfitting, grid searched for hyperparameters and decided to do more EDA on potential words to bring into stopword list"
   ]
  },
  {
   "cell_type": "code",
   "execution_count": 8,
   "id": "33bceb62-b41e-4d6c-b5d5-38afcd9b562b",
   "metadata": {},
   "outputs": [],
   "source": [
    "lr = LogisticRegression()"
   ]
  },
  {
   "cell_type": "code",
   "execution_count": 9,
   "id": "849c1e1a-7b4e-4dd3-94a2-1d4d4593867e",
   "metadata": {},
   "outputs": [
    {
     "data": {
      "text/plain": [
       "LogisticRegression()"
      ]
     },
     "execution_count": 9,
     "metadata": {},
     "output_type": "execute_result"
    }
   ],
   "source": [
    "lr.fit(X_traindf, y_train)"
   ]
  },
  {
   "cell_type": "code",
   "execution_count": 10,
   "id": "6ce68059-c3ff-4d3d-a4fb-ef6091f14595",
   "metadata": {},
   "outputs": [
    {
     "name": "stdout",
     "output_type": "stream",
     "text": [
      "Default Logistic Regression scores: 0.9439982150825524, 0.8105756358768407\n"
     ]
    }
   ],
   "source": [
    "print(f'Default Logistic Regression scores: {lr.score(X_traindf, y_train)}, {lr.score(X_testdf, y_test)}')"
   ]
  },
  {
   "cell_type": "code",
   "execution_count": 11,
   "id": "d22c98b1-da82-45a3-8442-529fcbb5589a",
   "metadata": {},
   "outputs": [
    {
     "data": {
      "text/plain": [
       "<sklearn.metrics._plot.confusion_matrix.ConfusionMatrixDisplay at 0x7fced9502520>"
      ]
     },
     "execution_count": 11,
     "metadata": {},
     "output_type": "execute_result"
    },
    {
     "data": {
      "image/png": "[encoded data removed]",
      "text/plain": [
       "<Figure size 432x288 with 2 Axes>"
      ]
     },
     "metadata": {
      "needs_background": "light"
     },
     "output_type": "display_data"
    }
   ],
   "source": [
    "lr_preds = lr.predict(X_testdf)\n",
    "tn, fp, fn, tp = confusion_matrix(y_test, lr_preds).ravel()\n",
    "plot_confusion_matrix(lr, X_testdf, y_test, cmap='Blues')"
   ]
  },
  {
   "cell_type": "code",
   "execution_count": 12,
   "id": "5a5a36e3-0b40-4ef5-bda8-e0848d546440",
   "metadata": {},
   "outputs": [],
   "source": [
    "lr3 = LogisticRegression()\n",
    "\n",
    "lr3_params = {'C' : [0.1, 0.01, 1],\n",
    "             'max_iter' : [1000, 2500, 5000]}\n",
    "\n",
    "gridlr3 = GridSearchCV(lr3, lr3_params, cv=3, verbose=1)"
   ]
  },
  {
   "cell_type": "code",
   "execution_count": 13,
   "id": "cb362c3d-74ac-4273-814c-a4310668b322",
   "metadata": {},
   "outputs": [
    {
     "name": "stdout",
     "output_type": "stream",
     "text": [
      "Fitting 3 folds for each of 9 candidates, totalling 27 fits\n"
     ]
    },
    {
     "data": {
      "text/plain": [
       "GridSearchCV(cv=3, estimator=LogisticRegression(),\n",
       "             param_grid={'C': [0.1, 0.01, 1], 'max_iter': [1000, 2500, 5000]},\n",
       "             verbose=1)"
      ]
     },
     "execution_count": 13,
     "metadata": {},
     "output_type": "execute_result"
    }
   ],
   "source": [
    "gridlr3.fit(X_traindf, y_train)"
   ]
  },
  {
   "cell_type": "code",
   "execution_count": 14,
   "id": "5b6f4089-1373-4a9d-b1a1-cfe062135fbf",
   "metadata": {},
   "outputs": [
    {
     "name": "stdout",
     "output_type": "stream",
     "text": [
      "Best score: 0.7991967871485942\n",
      "Best params: {'C': 0.1, 'max_iter': 1000}\n",
      "Best Logistic Regression score: 0.9185631414547077, 0.821954484605087\n"
     ]
    }
   ],
   "source": [
    "print(f'Best score: {gridlr3.best_score_ }')\n",
    "print(f'Best params: {gridlr3.best_params_}')\n",
    "print(f'Best Logistic Regression score: {gridlr3.score(X_traindf, y_train)}, {gridlr3.score(X_testdf, y_test)}')"
   ]
  },
  {
   "cell_type": "markdown",
   "id": "050620c0-c396-453c-88aa-14c1b7d60322",
   "metadata": {},
   "source": [
    "### Modeling: KNN"
   ]
  },
  {
   "cell_type": "code",
   "execution_count": 15,
   "id": "5ca315ee-5b66-44ec-8d6f-aea76cb34796",
   "metadata": {},
   "outputs": [],
   "source": [
    "knn = KNeighborsClassifier()"
   ]
  },
  {
   "cell_type": "code",
   "execution_count": 16,
   "id": "61fc2f6f-4311-4e7c-9c17-28169eee6005",
   "metadata": {},
   "outputs": [
    {
     "data": {
      "text/plain": [
       "KNeighborsClassifier()"
      ]
     },
     "execution_count": 16,
     "metadata": {},
     "output_type": "execute_result"
    }
   ],
   "source": [
    "knn.fit(X_traindf, y_train)"
   ]
  },
  {
   "cell_type": "code",
   "execution_count": 17,
   "id": "c66a4e12-f0b1-4d2f-9d3a-26685a0f0252",
   "metadata": {},
   "outputs": [
    {
     "name": "stdout",
     "output_type": "stream",
     "text": [
      "Default KNN scores: 0.7704149933065596, 0.6251673360107095\n"
     ]
    }
   ],
   "source": [
    "print(f'Default KNN scores: {knn.score(X_traindf, y_train)}, {knn.score(X_testdf, y_test)}')"
   ]
  },
  {
   "cell_type": "code",
   "execution_count": 18,
   "id": "54121f76-3055-4f6f-bf40-d6462d5c2127",
   "metadata": {},
   "outputs": [
    {
     "data": {
      "text/plain": [
       "<sklearn.metrics._plot.confusion_matrix.ConfusionMatrixDisplay at 0x7fcef920c9a0>"
      ]
     },
     "execution_count": 18,
     "metadata": {},
     "output_type": "execute_result"
    },
    {
     "data": {
      "image/png": "[encoded data removed]",
      "text/plain": [
       "<Figure size 432x288 with 2 Axes>"
      ]
     },
     "metadata": {
      "needs_background": "light"
     },
     "output_type": "display_data"
    }
   ],
   "source": [
    "knn_preds = knn.predict(X_testdf)\n",
    "tn, fp, fn, tp = confusion_matrix(y_test, knn_preds).ravel()\n",
    "plot_confusion_matrix(knn, X_testdf, y_test, cmap='Blues')"
   ]
  },
  {
   "cell_type": "code",
   "execution_count": 19,
   "id": "78bb36a4-d901-483f-baf8-5bb3a3c4eb0a",
   "metadata": {},
   "outputs": [],
   "source": [
    "#generate gridsearch and params to see if we can boost predictive power and combat overfitting\n",
    "knn2 = KNeighborsClassifier()\n",
    "\n",
    "knn_params = {'n_neighbors' : [15, 25, 30, 40],\n",
    "             'weights' : ['uniform', 'distance'],\n",
    "             'p' : [1,2]}\n",
    "\n",
    "knngrid = GridSearchCV(knn2, knn_params, cv=3)"
   ]
  },
  {
   "cell_type": "code",
   "execution_count": 20,
   "id": "661764bb-c975-48ab-8c52-2d163383d29b",
   "metadata": {},
   "outputs": [
    {
     "name": "stdout",
     "output_type": "stream",
     "text": [
      "Best score: 0.6015171798304328\n",
      "Best params: {'n_neighbors': 15, 'p': 2, 'weights': 'distance'}\n",
      "Best KNN score: 0.9576082106202588, 0.5943775100401606\n"
     ]
    }
   ],
   "source": [
    "knngrid.fit(X_traindf, y_train)\n",
    "\n",
    "print(f'Best score: {knngrid.best_score_ }')\n",
    "print(f'Best params: {knngrid.best_params_}')\n",
    "print(f'Best KNN score: {knngrid.score(X_traindf, y_train)}, {knngrid.score(X_testdf, y_test)}')"
   ]
  },
  {
   "cell_type": "markdown",
   "id": "ed80a07f-a927-491a-b0e0-83638725cac9",
   "metadata": {},
   "source": [
    "### Modeling: Multinomial NB"
   ]
  },
  {
   "cell_type": "code",
   "execution_count": 21,
   "id": "128a748c-5f42-4a24-be54-ad3f9cb26b6c",
   "metadata": {},
   "outputs": [],
   "source": [
    "mnb = MultinomialNB()"
   ]
  },
  {
   "cell_type": "code",
   "execution_count": 22,
   "id": "931da328-32af-49a5-a4ba-235b7dce55d7",
   "metadata": {},
   "outputs": [
    {
     "data": {
      "text/plain": [
       "MultinomialNB()"
      ]
     },
     "execution_count": 22,
     "metadata": {},
     "output_type": "execute_result"
    }
   ],
   "source": [
    "mnb.fit(X_traindf, y_train)"
   ]
  },
  {
   "cell_type": "code",
   "execution_count": 23,
   "id": "da831108-7b7d-44b1-bba4-5d45106595a6",
   "metadata": {},
   "outputs": [
    {
     "name": "stdout",
     "output_type": "stream",
     "text": [
      "Default MNB scores: 0.9183400267737617, 0.8145917001338688\n"
     ]
    }
   ],
   "source": [
    "print(f'Default MNB scores: {mnb.score(X_traindf, y_train)}, {mnb.score(X_testdf, y_test)}')"
   ]
  },
  {
   "cell_type": "code",
   "execution_count": 24,
   "id": "c8d97f27-edcd-43ba-855b-3a980ac5bfcb",
   "metadata": {},
   "outputs": [],
   "source": [
    "mnb2 = MultinomialNB()\n",
    "\n",
    "mnb_params = {\n",
    "    'alpha' : [0.25, 0.5, 0.75, 1]\n",
    "}\n",
    "\n",
    "mnbgrid = GridSearchCV(mnb2, mnb_params, cv=3)"
   ]
  },
  {
   "cell_type": "code",
   "execution_count": 25,
   "id": "5eb9d78a-f4dd-4dff-ab8b-83f5192bc862",
   "metadata": {
    "scrolled": true,
    "tags": []
   },
   "outputs": [
    {
     "name": "stdout",
     "output_type": "stream",
     "text": [
      "Best score: 0.8130298973672468\n",
      "Best params: {'alpha': 0.5}\n",
      "Best MNB score: 0.9232485497545738, 0.8139223560910308\n"
     ]
    }
   ],
   "source": [
    "mnbgrid.fit(X_traindf, y_train)\n",
    "\n",
    "print(f'Best score: {mnbgrid.best_score_ }')\n",
    "print(f'Best params: {mnbgrid.best_params_}')\n",
    "print(f'Best MNB score: {mnbgrid.score(X_traindf, y_train)}, {mnbgrid.score(X_testdf, y_test)}')"
   ]
  },
  {
   "cell_type": "markdown",
   "id": "5bef62fc-f0bf-4419-8faa-748f3aa65da7",
   "metadata": {},
   "source": [
    "### Modeling: Random Forest Classifier"
   ]
  },
  {
   "cell_type": "code",
   "execution_count": 26,
   "id": "952f33b0-a2fd-4ae8-a951-950c833d47f4",
   "metadata": {},
   "outputs": [],
   "source": [
    "rfc = RandomForestClassifier()"
   ]
  },
  {
   "cell_type": "code",
   "execution_count": 27,
   "id": "5109bbe1-5acd-496c-b25a-4eef593a5f81",
   "metadata": {},
   "outputs": [
    {
     "data": {
      "text/plain": [
       "RandomForestClassifier()"
      ]
     },
     "execution_count": 27,
     "metadata": {},
     "output_type": "execute_result"
    }
   ],
   "source": [
    "rfc.fit(X_traindf, y_train)"
   ]
  },
  {
   "cell_type": "code",
   "execution_count": 28,
   "id": "49f58bee-d36b-4e01-96f3-2e8e63fa3e3a",
   "metadata": {},
   "outputs": [
    {
     "name": "stdout",
     "output_type": "stream",
     "text": [
      "Default RFC scores: 0.9576082106202588, 0.7710843373493976\n"
     ]
    }
   ],
   "source": [
    "print(f'Default RFC scores: {rfc.score(X_traindf, y_train)}, {rfc.score(X_testdf, y_test)}')"
   ]
  },
  {
   "cell_type": "code",
   "execution_count": 29,
   "id": "8848000a-bc76-427f-b236-34b47ade4bf6",
   "metadata": {},
   "outputs": [],
   "source": [
    "rfc2 = RandomForestClassifier()\n",
    "\n",
    "rfc_params = {\n",
    "    'n_estimators' : [300, 600, 900],\n",
    "    'max_depth' : [None, 1, 3, 5]\n",
    "}\n",
    "\n",
    "rfcgrid = GridSearchCV(rfc2, rfc_params, cv=3)"
   ]
  },
  {
   "cell_type": "code",
   "execution_count": 30,
   "id": "7919c56a-7ead-4b6f-8005-7dbf4e3389c4",
   "metadata": {
    "scrolled": true,
    "tags": []
   },
   "outputs": [
    {
     "name": "stdout",
     "output_type": "stream",
     "text": [
      "Best score: 0.7605979473449352\n",
      "Best params: {'max_depth': None, 'n_estimators': 600}\n",
      "Best RFC score: 0.9576082106202588, 0.7764390896921017\n"
     ]
    }
   ],
   "source": [
    "rfcgrid.fit(X_traindf, y_train)\n",
    "\n",
    "print(f'Best score: {rfcgrid.best_score_ }')\n",
    "print(f'Best params: {rfcgrid.best_params_}')\n",
    "print(f'Best RFC score: {rfcgrid.score(X_traindf, y_train)}, {rfcgrid.score(X_testdf, y_test)}')"
   ]
  },
  {
   "cell_type": "markdown",
   "id": "8ad485b1-c880-4e95-9d66-a50bd88eb224",
   "metadata": {},
   "source": [
    "### Modeling: Extra Trees Classifier"
   ]
  },
  {
   "cell_type": "code",
   "execution_count": 31,
   "id": "563a85a6-c3cb-4ed3-8331-7465c1703d18",
   "metadata": {},
   "outputs": [],
   "source": [
    "etc = ExtraTreesClassifier()"
   ]
  },
  {
   "cell_type": "code",
   "execution_count": 32,
   "id": "73fb6b43-410a-49a4-b189-36cfd5032df5",
   "metadata": {},
   "outputs": [
    {
     "data": {
      "text/plain": [
       "ExtraTreesClassifier()"
      ]
     },
     "execution_count": 32,
     "metadata": {},
     "output_type": "execute_result"
    }
   ],
   "source": [
    "etc.fit(X_traindf, y_train)"
   ]
  },
  {
   "cell_type": "code",
   "execution_count": 33,
   "id": "826592fb-55fe-44e7-a2df-b88371207005",
   "metadata": {},
   "outputs": [
    {
     "name": "stdout",
     "output_type": "stream",
     "text": [
      "Default ETC scores: 0.9576082106202588, 0.7737617135207496\n"
     ]
    }
   ],
   "source": [
    "print(f'Default ETC scores: {etc.score(X_traindf, y_train)}, {etc.score(X_testdf, y_test)}')"
   ]
  },
  {
   "cell_type": "code",
   "execution_count": 34,
   "id": "0fe0057f-798e-40ac-80b4-7c37d13d7582",
   "metadata": {},
   "outputs": [],
   "source": [
    "etc2 = ExtraTreesClassifier()\n",
    "\n",
    "etc_params = {\n",
    "    'n_estimators' : [150, 200, 300],\n",
    "    'max_depth' : [None, 1, 2]\n",
    "}\n",
    "\n",
    "etcgrid = GridSearchCV(etc2, etc_params, cv=3)"
   ]
  },
  {
   "cell_type": "code",
   "execution_count": 35,
   "id": "d175370b-e848-48df-8678-2ab9275f93d1",
   "metadata": {},
   "outputs": [
    {
     "name": "stdout",
     "output_type": "stream",
     "text": [
      "Best score: 0.7550200803212851\n",
      "Best params: {'max_depth': None, 'n_estimators': 150}\n",
      "Best ETC score: 0.9576082106202588, 0.7757697456492637\n"
     ]
    }
   ],
   "source": [
    "etcgrid.fit(X_traindf, y_train)\n",
    "\n",
    "print(f'Best score: {etcgrid.best_score_ }')\n",
    "print(f'Best params: {etcgrid.best_params_}')\n",
    "print(f'Best ETC score: {etcgrid.score(X_traindf, y_train)}, {etcgrid.score(X_testdf, y_test)}')"
   ]
  },
  {
   "cell_type": "markdown",
   "id": "55660c1e-014e-436b-8f62-3893e9c7ed7e",
   "metadata": {},
   "source": [
    "### Results"
   ]
  },
  {
   "cell_type": "code",
   "execution_count": 37,
   "id": "0020f5e8-88bc-4ffb-8836-9c361edb14b6",
   "metadata": {},
   "outputs": [],
   "source": [
    "results_data = {\n",
    "    'Model' : ['Baseline',\n",
    "               'Logistic Regression',\n",
    "              'KNN Classifier',\n",
    "              'Multinomial Naive Bayes',\n",
    "              'Random Forest Classifier',\n",
    "              'Extra Trees Classifier'],\n",
    "    \n",
    "    'Default Train Score' : ['51.0',\n",
    "                             round((lr.score(X_traindf, y_train)*100),0),\n",
    "                             round((knn.score(X_traindf, y_train)*100),0),\n",
    "                             round((mnb.score(X_traindf, y_train)*100), 0),\n",
    "                             round((rfc.score(X_traindf, y_train)*100), 0),\n",
    "                             round((etc.score(X_traindf, y_train)*100),0)],\n",
    "    \n",
    "    'Default Test Score' : ['51.0',\n",
    "                            round((lr.score(X_testdf, y_test)*100),0),\n",
    "                           round((knn.score(X_testdf, y_test)*100),0),\n",
    "                           round((mnb.score(X_testdf, y_test)*100),0),\n",
    "                           round((rfc.score(X_testdf, y_test)*100),0),\n",
    "                           round((etc.score(X_testdf, y_test)*100),0)],\n",
    "    \n",
    "    'Best Train Score': ['51.0',\n",
    "                                round((gridlr3.score(X_traindf, y_train)*100),0),\n",
    "                                 round((knngrid.score(X_traindf, y_train)*100),0),\n",
    "                                 round((mnbgrid.score(X_traindf, y_train)*100),0),\n",
    "                                 round((rfcgrid.score(X_traindf, y_train)*100),0),\n",
    "                                 round((etcgrid.score(X_traindf, y_train)*100),0)],\n",
    "    \n",
    "    \n",
    "    'Best Test Score': ['51.0',\n",
    "                                 round((gridlr3.score(X_testdf, y_test)*100),0),\n",
    "                                 round((knngrid.score(X_testdf, y_test)*100),0),\n",
    "                                 round((mnbgrid.score(X_testdf, y_test)*100),0),\n",
    "                                 round((rfcgrid.score(X_testdf, y_test)*100),0),\n",
    "                                 round((etcgrid.score(X_testdf, y_test)*100),0)],\n",
    "    \n",
    "    'Best Parameters': ['N/A',\n",
    "                        gridlr3.best_params_,\n",
    "                       knngrid.best_params_,\n",
    "                       mnbgrid.best_params_,\n",
    "                       rfcgrid.best_params_,\n",
    "                       etcgrid.best_params_]\n",
    "    \n",
    "}"
   ]
  },
  {
   "cell_type": "code",
   "execution_count": 38,
   "id": "1261cc3b-3b8f-40c9-932b-45c25d154562",
   "metadata": {},
   "outputs": [
    {
     "data": {
      "text/html": [
       "<div>\n",
       "<style scoped>\n",
       "    .dataframe tbody tr th:only-of-type {\n",
       "        vertical-align: middle;\n",
       "    }\n",
       "\n",
       "    .dataframe tbody tr th {\n",
       "        vertical-align: top;\n",
       "    }\n",
       "\n",
       "    .dataframe thead th {\n",
       "        text-align: right;\n",
       "    }\n",
       "</style>\n",
       "<table border=\"1\" class=\"dataframe\">\n",
       "  <thead>\n",
       "    <tr style=\"text-align: right;\">\n",
       "      <th></th>\n",
       "      <th>Model</th>\n",
       "      <th>Default Train Score</th>\n",
       "      <th>Default Test Score</th>\n",
       "      <th>Best Train Score</th>\n",
       "      <th>Best Test Score</th>\n",
       "      <th>Best Parameters</th>\n",
       "      <th>Variance for Default</th>\n",
       "      <th>Variance for Best</th>\n",
       "    </tr>\n",
       "  </thead>\n",
       "  <tbody>\n",
       "    <tr>\n",
       "      <th>0</th>\n",
       "      <td>Baseline</td>\n",
       "      <td>51.0</td>\n",
       "      <td>51.0</td>\n",
       "      <td>51.0</td>\n",
       "      <td>51.0</td>\n",
       "      <td>N/A</td>\n",
       "      <td>0.0</td>\n",
       "      <td>0.0</td>\n",
       "    </tr>\n",
       "    <tr>\n",
       "      <th>1</th>\n",
       "      <td>Logistic Regression</td>\n",
       "      <td>94.0</td>\n",
       "      <td>81.0</td>\n",
       "      <td>92.0</td>\n",
       "      <td>82.0</td>\n",
       "      <td>{'C': 0.1, 'max_iter': 1000}</td>\n",
       "      <td>13.0</td>\n",
       "      <td>10.0</td>\n",
       "    </tr>\n",
       "    <tr>\n",
       "      <th>2</th>\n",
       "      <td>KNN Classifier</td>\n",
       "      <td>77.0</td>\n",
       "      <td>63.0</td>\n",
       "      <td>96.0</td>\n",
       "      <td>59.0</td>\n",
       "      <td>{'n_neighbors': 15, 'p': 2, 'weights': 'distance'}</td>\n",
       "      <td>14.0</td>\n",
       "      <td>37.0</td>\n",
       "    </tr>\n",
       "    <tr>\n",
       "      <th>3</th>\n",
       "      <td>Multinomial Naive Bayes</td>\n",
       "      <td>92.0</td>\n",
       "      <td>81.0</td>\n",
       "      <td>92.0</td>\n",
       "      <td>81.0</td>\n",
       "      <td>{'alpha': 0.5}</td>\n",
       "      <td>11.0</td>\n",
       "      <td>11.0</td>\n",
       "    </tr>\n",
       "    <tr>\n",
       "      <th>4</th>\n",
       "      <td>Random Forest Classifier</td>\n",
       "      <td>96.0</td>\n",
       "      <td>77.0</td>\n",
       "      <td>96.0</td>\n",
       "      <td>78.0</td>\n",
       "      <td>{'max_depth': None, 'n_estimators': 600}</td>\n",
       "      <td>19.0</td>\n",
       "      <td>18.0</td>\n",
       "    </tr>\n",
       "    <tr>\n",
       "      <th>5</th>\n",
       "      <td>Extra Trees Classifier</td>\n",
       "      <td>96.0</td>\n",
       "      <td>77.0</td>\n",
       "      <td>96.0</td>\n",
       "      <td>78.0</td>\n",
       "      <td>{'max_depth': None, 'n_estimators': 150}</td>\n",
       "      <td>19.0</td>\n",
       "      <td>18.0</td>\n",
       "    </tr>\n",
       "  </tbody>\n",
       "</table>\n",
       "</div>"
      ],
      "text/plain": [
       "                      Model Default Train Score Default Test Score  \\\n",
       "0                  Baseline                51.0               51.0   \n",
       "1       Logistic Regression                94.0               81.0   \n",
       "2            KNN Classifier                77.0               63.0   \n",
       "3   Multinomial Naive Bayes                92.0               81.0   \n",
       "4  Random Forest Classifier                96.0               77.0   \n",
       "5    Extra Trees Classifier                96.0               77.0   \n",
       "\n",
       "  Best Train Score Best Test Score  \\\n",
       "0             51.0            51.0   \n",
       "1             92.0            82.0   \n",
       "2             96.0            59.0   \n",
       "3             92.0            81.0   \n",
       "4             96.0            78.0   \n",
       "5             96.0            78.0   \n",
       "\n",
       "                                      Best Parameters  Variance for Default  \\\n",
       "0                                                 N/A                   0.0   \n",
       "1                        {'C': 0.1, 'max_iter': 1000}                  13.0   \n",
       "2  {'n_neighbors': 15, 'p': 2, 'weights': 'distance'}                  14.0   \n",
       "3                                      {'alpha': 0.5}                  11.0   \n",
       "4            {'max_depth': None, 'n_estimators': 600}                  19.0   \n",
       "5            {'max_depth': None, 'n_estimators': 150}                  19.0   \n",
       "\n",
       "   Variance for Best  \n",
       "0                0.0  \n",
       "1               10.0  \n",
       "2               37.0  \n",
       "3               11.0  \n",
       "4               18.0  \n",
       "5               18.0  "
      ]
     },
     "execution_count": 38,
     "metadata": {},
     "output_type": "execute_result"
    }
   ],
   "source": [
    "final_results = pd.DataFrame(data=results_data)\n",
    "final_results['Variance for Default'] = pd.to_numeric(final_results['Default Train Score']) - pd.to_numeric(final_results['Default Test Score'])\n",
    "final_results['Variance for Best'] = pd.to_numeric(final_results['Best Train Score']) - pd.to_numeric(final_results['Best Test Score'])\n",
    "final_results.head(7)"
   ]
  },
  {
   "cell_type": "code",
   "execution_count": 39,
   "id": "f842e1a8-07d2-4a79-baa1-0d4d4fbba846",
   "metadata": {},
   "outputs": [],
   "source": [
    "final_results.to_csv('../data/finalresults_cvec_ogtext4.csv')"
   ]
  },
  {
   "cell_type": "code",
   "execution_count": null,
   "id": "48a3be6d-676b-401e-887a-f37649c067d5",
   "metadata": {},
   "outputs": [],
   "source": []
  }
 ],
 "metadata": {
  "kernelspec": {
   "display_name": "Python 3 (ipykernel)",
   "language": "python",
   "name": "python3"
  },
  "language_info": {
   "codemirror_mode": {
    "name": "ipython",
    "version": 3
   },
   "file_extension": ".py",
   "mimetype": "text/x-python",
   "name": "python",
   "nbconvert_exporter": "python",
   "pygments_lexer": "ipython3",
   "version": "3.9.7"
  }
 },
 "nbformat": 4,
 "nbformat_minor": 5
}
