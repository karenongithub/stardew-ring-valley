{
 "cells": [
  {
   "cell_type": "markdown",
   "id": "f7240644-d9dc-4816-8117-5fe071ae5567",
   "metadata": {},
   "source": [
    "### Extract Data from Reddit"
   ]
  },
  {
   "cell_type": "code",
   "execution_count": 1,
   "id": "d85092f1-fb2b-43c4-a5a0-18396fe59d6c",
   "metadata": {},
   "outputs": [],
   "source": [
    "import requests\n",
    "import pandas as pd\n",
    "from pmaw import PushshiftAPI #resources shared from Martin Berberi and David Coons\n",
    "#referred the following: https://medium.com/swlh/how-to-scrape-large-amounts-of-reddit-data-using-pushshift-1d33bde9286"
   ]
  },
  {
   "cell_type": "code",
   "execution_count": 2,
   "id": "a6c35ec8-0e36-4922-87e0-cd386b44d936",
   "metadata": {},
   "outputs": [
    {
     "data": {
      "text/plain": [
       "\"\\nI used this PushshiftAPI since there was a size limitation for the pushshift.io\\n\\nBelow is the code I originally was trying to make work for the pushshift.io to bring in more datasets:\\n\\n#set up urls\\nposturl = 'https://api.pushshift.io/reddit/search/submission'\\ncommenturl = 'https://api.pushshift.io/reddit/search/comment'\\n\\n\\n#set up parameters\\neldenparams = {\\n    'subreddit' : 'eldenring'\\n}\\n\\nstardewparams = {\\n    'subreddit' : 'stardewvalley'\\n}\\n\\nres2 = requests.get(posturl, stardewparams)\\nstardewpost = pd.DataFrame(res2.json()['data'])\\nstardewpost = stardewpost[['subreddit', 'selftext', 'title']]\\n\\n\""
      ]
     },
     "execution_count": 2,
     "metadata": {},
     "output_type": "execute_result"
    }
   ],
   "source": [
    "#set up api based on following resource shared from Martin: https://medium.com/swlh/how-to-scrape-large-amounts-of-reddit-data-using-pushshift-1d33bde9286\n",
    "api = PushshiftAPI()\n",
    "\n",
    "'''\n",
    "I used this PushshiftAPI since there was a size limitation for the pushshift.io\n",
    "\n",
    "Below is the code I originally was trying to make work for the pushshift.io to bring in more datasets:\n",
    "\n",
    "#set up urls\n",
    "posturl = 'https://api.pushshift.io/reddit/search/submission'\n",
    "commenturl = 'https://api.pushshift.io/reddit/search/comment'\n",
    "\n",
    "\n",
    "#set up parameters\n",
    "eldenparams = {\n",
    "    'subreddit' : 'eldenring'\n",
    "}\n",
    "\n",
    "stardewparams = {\n",
    "    'subreddit' : 'stardewvalley'\n",
    "}\n",
    "\n",
    "res2 = requests.get(posturl, stardewparams)\n",
    "stardewpost = pd.DataFrame(res2.json()['data'])\n",
    "stardewpost = stardewpost[['subreddit', 'selftext', 'title']]\n",
    "\n",
    "'''"
   ]
  },
  {
   "cell_type": "code",
   "execution_count": 3,
   "id": "baf4548c-9290-4a8d-9a48-7cbaf8b182f3",
   "metadata": {},
   "outputs": [
    {
     "name": "stderr",
     "output_type": "stream",
     "text": [
      "Not all PushShift shards are active. Query results may be incomplete.\n",
      "Not all PushShift shards are active. Query results may be incomplete.\n",
      "Not all PushShift shards are active. Query results may be incomplete.\n",
      "Not all PushShift shards are active. Query results may be incomplete.\n"
     ]
    }
   ],
   "source": [
    "#ran pushshiftapi to extract data\n",
    "eldenposts = api.search_submissions(subreddit='eldenring', limit=1000)\n",
    "eldencomments = api.search_comments(subreddit='eldenring', limit=2000)\n",
    "stardewposts = api.search_submissions(subreddit='stardewvalley', limit=1000)\n",
    "stardewcomments = api.search_comments(subreddit='stardewvalley', limit=2000)"
   ]
  },
  {
   "cell_type": "markdown",
   "id": "44bde63a-db42-4c15-8cac-0bcf9253eaf5",
   "metadata": {},
   "source": [
    "### Convert to Dataframe and Export"
   ]
  },
  {
   "cell_type": "code",
   "execution_count": 4,
   "id": "3c7f6daf-35b9-496d-9794-7e18e7e46c91",
   "metadata": {},
   "outputs": [],
   "source": [
    "#convert to dataframes\n",
    "eldenposts = pd.DataFrame(eldenposts)\n",
    "stardewposts = pd.DataFrame(stardewposts)\n",
    "eldencomments = pd.DataFrame(eldencomments)\n",
    "stardewcomments = pd.DataFrame(stardewcomments)"
   ]
  },
  {
   "cell_type": "code",
   "execution_count": 5,
   "id": "17d42426-f525-4992-baf2-f3456fb0544a",
   "metadata": {},
   "outputs": [],
   "source": [
    "#combine data types\n",
    "\n",
    "comments = pd.concat([eldencomments, stardewcomments], ignore_index=True)\n",
    "posts = pd.concat([eldenposts, stardewposts], ignore_index=True)\n",
    "\n",
    "comments = comments [['subreddit', 'author', 'body']]\n",
    "posts = posts[['subreddit', 'author', 'title', 'selftext']]"
   ]
  },
  {
   "cell_type": "code",
   "execution_count": 6,
   "id": "4a8e7d1e-5916-4b23-8dd8-f101231a085e",
   "metadata": {},
   "outputs": [
    {
     "name": "stdout",
     "output_type": "stream",
     "text": [
      "Eldenring        2000\n",
      "StardewValley    2000\n",
      "Name: subreddit, dtype: int64\n",
      "Eldenring        1000\n",
      "StardewValley    1000\n",
      "Name: subreddit, dtype: int64\n"
     ]
    }
   ],
   "source": [
    "print(comments['subreddit'].value_counts())\n",
    "\n",
    "print(posts['subreddit'].value_counts())"
   ]
  },
  {
   "cell_type": "code",
   "execution_count": 7,
   "id": "b910e966-a28b-4267-a873-153c922b93a1",
   "metadata": {},
   "outputs": [],
   "source": [
    "posts.to_csv('../data/posts.csv', index=False)\n",
    "comments.to_csv('../data/comments.csv', index=False)"
   ]
  }
 ],
 "metadata": {
  "kernelspec": {
   "display_name": "Python 3 (ipykernel)",
   "language": "python",
   "name": "python3"
  },
  "language_info": {
   "codemirror_mode": {
    "name": "ipython",
    "version": 3
   },
   "file_extension": ".py",
   "mimetype": "text/x-python",
   "name": "python",
   "nbconvert_exporter": "python",
   "pygments_lexer": "ipython3",
   "version": "3.9.7"
  }
 },
 "nbformat": 4,
 "nbformat_minor": 5
}
