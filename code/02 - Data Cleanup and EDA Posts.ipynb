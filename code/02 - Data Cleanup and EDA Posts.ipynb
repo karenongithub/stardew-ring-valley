{
 "cells": [
  {
   "cell_type": "markdown",
   "id": "f28c5959-65c9-49e6-b855-458a3e38f0db",
   "metadata": {},
   "source": [
    "### Imports"
   ]
  },
  {
   "cell_type": "code",
   "execution_count": 1,
   "id": "def5305f-7c50-4270-a647-9ffc56596df3",
   "metadata": {},
   "outputs": [],
   "source": [
    "import pandas as pd\n",
    "import matplotlib.pyplot as plt\n",
    "import numpy as np\n",
    "import seaborn as sns\n",
    "\n",
    "from sklearn.feature_extraction.text import CountVectorizer\n",
    "from sklearn.feature_extraction import text\n",
    "\n",
    "from nltk.tokenize import sent_tokenize, word_tokenize, RegexpTokenizer\n",
    "from nltk.stem import WordNetLemmatizer\n",
    "from nltk.stem.porter import PorterStemmer\n",
    "from nltk.corpus import stopwords\n",
    "\n",
    "pd.options.display.max_colwidth = 500\n",
    "pd.options.display.max_rows = 500"
   ]
  },
  {
   "cell_type": "markdown",
   "id": "1799d346-691b-4c51-b56e-ff6e92d94802",
   "metadata": {},
   "source": [
    "### Data Cleaning and Feature Engineering"
   ]
  },
  {
   "cell_type": "code",
   "execution_count": 2,
   "id": "c501cf14-b0f3-4fbd-96a2-a2ddbc729eb4",
   "metadata": {},
   "outputs": [
    {
     "data": {
      "text/html": [
       "<div>\n",
       "<style scoped>\n",
       "    .dataframe tbody tr th:only-of-type {\n",
       "        vertical-align: middle;\n",
       "    }\n",
       "\n",
       "    .dataframe tbody tr th {\n",
       "        vertical-align: top;\n",
       "    }\n",
       "\n",
       "    .dataframe thead th {\n",
       "        text-align: right;\n",
       "    }\n",
       "</style>\n",
       "<table border=\"1\" class=\"dataframe\">\n",
       "  <thead>\n",
       "    <tr style=\"text-align: right;\">\n",
       "      <th></th>\n",
       "      <th>subreddit</th>\n",
       "      <th>author</th>\n",
       "      <th>title</th>\n",
       "      <th>selftext</th>\n",
       "    </tr>\n",
       "  </thead>\n",
       "  <tbody>\n",
       "    <tr>\n",
       "      <th>0</th>\n",
       "      <td>Eldenring</td>\n",
       "      <td>mrawesome11234</td>\n",
       "      <td>It is almost time my fellow hollows</td>\n",
       "      <td>NaN</td>\n",
       "    </tr>\n",
       "    <tr>\n",
       "      <th>1</th>\n",
       "      <td>Eldenring</td>\n",
       "      <td>Yurisanrollrrir</td>\n",
       "      <td>24 Hours yet remain...</td>\n",
       "      <td>NaN</td>\n",
       "    </tr>\n",
       "    <tr>\n",
       "      <th>2</th>\n",
       "      <td>Eldenring</td>\n",
       "      <td>GlassedGhost</td>\n",
       "      <td>Your worst nightmares...</td>\n",
       "      <td>NaN</td>\n",
       "    </tr>\n",
       "  </tbody>\n",
       "</table>\n",
       "</div>"
      ],
      "text/plain": [
       "   subreddit           author                                title selftext\n",
       "0  Eldenring   mrawesome11234  It is almost time my fellow hollows      NaN\n",
       "1  Eldenring  Yurisanrollrrir               24 Hours yet remain...      NaN\n",
       "2  Eldenring     GlassedGhost             Your worst nightmares...      NaN"
      ]
     },
     "execution_count": 2,
     "metadata": {},
     "output_type": "execute_result"
    }
   ],
   "source": [
    "df = pd.read_csv('../data/posts.csv')\n",
    "\n",
    "df.head(3)"
   ]
  },
  {
   "cell_type": "code",
   "execution_count": 3,
   "id": "e4300210-6810-4b8f-bd31-89363608df6a",
   "metadata": {},
   "outputs": [
    {
     "data": {
      "text/plain": [
       "subreddit       0\n",
       "author          0\n",
       "title           0\n",
       "selftext     1090\n",
       "dtype: int64"
      ]
     },
     "execution_count": 3,
     "metadata": {},
     "output_type": "execute_result"
    }
   ],
   "source": [
    "df.isna().sum()"
   ]
  },
  {
   "cell_type": "code",
   "execution_count": 4,
   "id": "fbc415e6-4911-4122-a673-8b4c4212cbb6",
   "metadata": {},
   "outputs": [
    {
     "name": "stdout",
     "output_type": "stream",
     "text": [
      "<class 'pandas.core.frame.DataFrame'>\n",
      "RangeIndex: 2000 entries, 0 to 1999\n",
      "Data columns (total 4 columns):\n",
      " #   Column     Non-Null Count  Dtype \n",
      "---  ------     --------------  ----- \n",
      " 0   subreddit  2000 non-null   object\n",
      " 1   author     2000 non-null   object\n",
      " 2   title      2000 non-null   object\n",
      " 3   selftext   910 non-null    object\n",
      "dtypes: object(4)\n",
      "memory usage: 62.6+ KB\n"
     ]
    }
   ],
   "source": [
    "df.info()"
   ]
  },
  {
   "cell_type": "code",
   "execution_count": 5,
   "id": "46e9b2fa-9095-4343-b4e4-696bdfa05916",
   "metadata": {},
   "outputs": [
    {
     "data": {
      "text/plain": [
       "subreddit    0\n",
       "author       0\n",
       "title        0\n",
       "selftext     0\n",
       "dtype: int64"
      ]
     },
     "execution_count": 5,
     "metadata": {},
     "output_type": "execute_result"
    }
   ],
   "source": [
    "#converted nulls into empty space. decided to keep since still around 900 posts that can give information to model\n",
    "\n",
    "df.fillna(' ', inplace=True)\n",
    "\n",
    "df.isna().sum()"
   ]
  },
  {
   "cell_type": "code",
   "execution_count": 6,
   "id": "90523962-e626-4aea-9947-8a6ebd389daa",
   "metadata": {},
   "outputs": [
    {
     "data": {
      "text/html": [
       "<div>\n",
       "<style scoped>\n",
       "    .dataframe tbody tr th:only-of-type {\n",
       "        vertical-align: middle;\n",
       "    }\n",
       "\n",
       "    .dataframe tbody tr th {\n",
       "        vertical-align: top;\n",
       "    }\n",
       "\n",
       "    .dataframe thead th {\n",
       "        text-align: right;\n",
       "    }\n",
       "</style>\n",
       "<table border=\"1\" class=\"dataframe\">\n",
       "  <thead>\n",
       "    <tr style=\"text-align: right;\">\n",
       "      <th></th>\n",
       "      <th>subreddit</th>\n",
       "      <th>author</th>\n",
       "      <th>title</th>\n",
       "      <th>selftext</th>\n",
       "      <th>body</th>\n",
       "    </tr>\n",
       "  </thead>\n",
       "  <tbody>\n",
       "    <tr>\n",
       "      <th>0</th>\n",
       "      <td>Eldenring</td>\n",
       "      <td>mrawesome11234</td>\n",
       "      <td>It is almost time my fellow hollows</td>\n",
       "      <td></td>\n",
       "      <td>It is almost time my fellow hollows</td>\n",
       "    </tr>\n",
       "    <tr>\n",
       "      <th>1</th>\n",
       "      <td>Eldenring</td>\n",
       "      <td>Yurisanrollrrir</td>\n",
       "      <td>24 Hours yet remain...</td>\n",
       "      <td></td>\n",
       "      <td>24 Hours yet remain...</td>\n",
       "    </tr>\n",
       "    <tr>\n",
       "      <th>2</th>\n",
       "      <td>Eldenring</td>\n",
       "      <td>GlassedGhost</td>\n",
       "      <td>Your worst nightmares...</td>\n",
       "      <td></td>\n",
       "      <td>Your worst nightmares...</td>\n",
       "    </tr>\n",
       "  </tbody>\n",
       "</table>\n",
       "</div>"
      ],
      "text/plain": [
       "   subreddit           author                                title selftext  \\\n",
       "0  Eldenring   mrawesome11234  It is almost time my fellow hollows            \n",
       "1  Eldenring  Yurisanrollrrir               24 Hours yet remain...            \n",
       "2  Eldenring     GlassedGhost             Your worst nightmares...            \n",
       "\n",
       "                                    body  \n",
       "0  It is almost time my fellow hollows    \n",
       "1               24 Hours yet remain...    \n",
       "2             Your worst nightmares...    "
      ]
     },
     "execution_count": 6,
     "metadata": {},
     "output_type": "execute_result"
    }
   ],
   "source": [
    "#combined post title and post body into one variable\n",
    "\n",
    "df['body'] = df['title'] + str(' ') + df['selftext']\n",
    "\n",
    "df.head(3)"
   ]
  },
  {
   "cell_type": "code",
   "execution_count": 7,
   "id": "85deb422-d456-4c7e-b948-70d7c6a01735",
   "metadata": {},
   "outputs": [
    {
     "name": "stderr",
     "output_type": "stream",
     "text": [
      "/var/folders/j4/fj647cj14gd9kk21c0z8rmm00000gn/T/ipykernel_3972/1280113549.py:2: FutureWarning: The default value of regex will change from True to False in a future version.\n",
      "  df['body'] = df['body'].str.replace(r'[^\\w\\s]', '')\n"
     ]
    },
    {
     "data": {
      "text/html": [
       "<div>\n",
       "<style scoped>\n",
       "    .dataframe tbody tr th:only-of-type {\n",
       "        vertical-align: middle;\n",
       "    }\n",
       "\n",
       "    .dataframe tbody tr th {\n",
       "        vertical-align: top;\n",
       "    }\n",
       "\n",
       "    .dataframe thead th {\n",
       "        text-align: right;\n",
       "    }\n",
       "</style>\n",
       "<table border=\"1\" class=\"dataframe\">\n",
       "  <thead>\n",
       "    <tr style=\"text-align: right;\">\n",
       "      <th></th>\n",
       "      <th>subreddit</th>\n",
       "      <th>author</th>\n",
       "      <th>title</th>\n",
       "      <th>selftext</th>\n",
       "      <th>body</th>\n",
       "      <th>tokenized</th>\n",
       "    </tr>\n",
       "  </thead>\n",
       "  <tbody>\n",
       "    <tr>\n",
       "      <th>0</th>\n",
       "      <td>Eldenring</td>\n",
       "      <td>mrawesome11234</td>\n",
       "      <td>It is almost time my fellow hollows</td>\n",
       "      <td></td>\n",
       "      <td>It is almost time my fellow hollows</td>\n",
       "      <td>[It, is, almost, time, my, fellow, hollows]</td>\n",
       "    </tr>\n",
       "    <tr>\n",
       "      <th>1</th>\n",
       "      <td>Eldenring</td>\n",
       "      <td>Yurisanrollrrir</td>\n",
       "      <td>24 Hours yet remain...</td>\n",
       "      <td></td>\n",
       "      <td>24 Hours yet remain</td>\n",
       "      <td>[24, Hours, yet, remain]</td>\n",
       "    </tr>\n",
       "    <tr>\n",
       "      <th>2</th>\n",
       "      <td>Eldenring</td>\n",
       "      <td>GlassedGhost</td>\n",
       "      <td>Your worst nightmares...</td>\n",
       "      <td></td>\n",
       "      <td>Your worst nightmares</td>\n",
       "      <td>[Your, worst, nightmares]</td>\n",
       "    </tr>\n",
       "  </tbody>\n",
       "</table>\n",
       "</div>"
      ],
      "text/plain": [
       "   subreddit           author                                title selftext  \\\n",
       "0  Eldenring   mrawesome11234  It is almost time my fellow hollows            \n",
       "1  Eldenring  Yurisanrollrrir               24 Hours yet remain...            \n",
       "2  Eldenring     GlassedGhost             Your worst nightmares...            \n",
       "\n",
       "                                    body  \\\n",
       "0  It is almost time my fellow hollows     \n",
       "1                  24 Hours yet remain     \n",
       "2                Your worst nightmares     \n",
       "\n",
       "                                     tokenized  \n",
       "0  [It, is, almost, time, my, fellow, hollows]  \n",
       "1                     [24, Hours, yet, remain]  \n",
       "2                    [Your, worst, nightmares]  "
      ]
     },
     "execution_count": 7,
     "metadata": {},
     "output_type": "execute_result"
    }
   ],
   "source": [
    "#removed puncutation from text -- found expression in stackoverflow\n",
    "df['body'] = df['body'].str.replace(r'[^\\w\\s]', '')\n",
    "\n",
    "#set regex tokenizer\n",
    "tokenizer = RegexpTokenizer(r'\\w+')\n",
    "df['tokenized'] = df['body'].apply(lambda x: tokenizer.tokenize(x))\n",
    "\n",
    "df.head(3)"
   ]
  },
  {
   "cell_type": "code",
   "execution_count": 8,
   "id": "c27e26b8-9452-44be-a140-6d50dbcc6dad",
   "metadata": {},
   "outputs": [
    {
     "data": {
      "text/html": [
       "<div>\n",
       "<style scoped>\n",
       "    .dataframe tbody tr th:only-of-type {\n",
       "        vertical-align: middle;\n",
       "    }\n",
       "\n",
       "    .dataframe tbody tr th {\n",
       "        vertical-align: top;\n",
       "    }\n",
       "\n",
       "    .dataframe thead th {\n",
       "        text-align: right;\n",
       "    }\n",
       "</style>\n",
       "<table border=\"1\" class=\"dataframe\">\n",
       "  <thead>\n",
       "    <tr style=\"text-align: right;\">\n",
       "      <th></th>\n",
       "      <th>subreddit</th>\n",
       "      <th>author</th>\n",
       "      <th>title</th>\n",
       "      <th>selftext</th>\n",
       "      <th>body</th>\n",
       "      <th>tokenized</th>\n",
       "      <th>lemmatized</th>\n",
       "      <th>stemmed</th>\n",
       "    </tr>\n",
       "  </thead>\n",
       "  <tbody>\n",
       "    <tr>\n",
       "      <th>0</th>\n",
       "      <td>Eldenring</td>\n",
       "      <td>mrawesome11234</td>\n",
       "      <td>It is almost time my fellow hollows</td>\n",
       "      <td></td>\n",
       "      <td>It is almost time my fellow hollows</td>\n",
       "      <td>[It, is, almost, time, my, fellow, hollows]</td>\n",
       "      <td>It is almost time my fellow hollow</td>\n",
       "      <td>it is almost time my fellow hollow</td>\n",
       "    </tr>\n",
       "    <tr>\n",
       "      <th>1</th>\n",
       "      <td>Eldenring</td>\n",
       "      <td>Yurisanrollrrir</td>\n",
       "      <td>24 Hours yet remain...</td>\n",
       "      <td></td>\n",
       "      <td>24 Hours yet remain</td>\n",
       "      <td>[24, Hours, yet, remain]</td>\n",
       "      <td>24 Hours yet remain</td>\n",
       "      <td>24 hour yet remain</td>\n",
       "    </tr>\n",
       "    <tr>\n",
       "      <th>2</th>\n",
       "      <td>Eldenring</td>\n",
       "      <td>GlassedGhost</td>\n",
       "      <td>Your worst nightmares...</td>\n",
       "      <td></td>\n",
       "      <td>Your worst nightmares</td>\n",
       "      <td>[Your, worst, nightmares]</td>\n",
       "      <td>Your worst nightmare</td>\n",
       "      <td>your worst nightmar</td>\n",
       "    </tr>\n",
       "  </tbody>\n",
       "</table>\n",
       "</div>"
      ],
      "text/plain": [
       "   subreddit           author                                title selftext  \\\n",
       "0  Eldenring   mrawesome11234  It is almost time my fellow hollows            \n",
       "1  Eldenring  Yurisanrollrrir               24 Hours yet remain...            \n",
       "2  Eldenring     GlassedGhost             Your worst nightmares...            \n",
       "\n",
       "                                    body  \\\n",
       "0  It is almost time my fellow hollows     \n",
       "1                  24 Hours yet remain     \n",
       "2                Your worst nightmares     \n",
       "\n",
       "                                     tokenized  \\\n",
       "0  [It, is, almost, time, my, fellow, hollows]   \n",
       "1                     [24, Hours, yet, remain]   \n",
       "2                    [Your, worst, nightmares]   \n",
       "\n",
       "                           lemmatized                             stemmed  \n",
       "0  It is almost time my fellow hollow  it is almost time my fellow hollow  \n",
       "1                 24 Hours yet remain                  24 hour yet remain  \n",
       "2                Your worst nightmare                 your worst nightmar  "
      ]
     },
     "execution_count": 8,
     "metadata": {},
     "output_type": "execute_result"
    }
   ],
   "source": [
    "#added additional stop words to review the name of the games\n",
    "custom_stopwords = ['elden',\n",
    "                    'ring',\n",
    "                    'stardew',\n",
    "                    'valley',\n",
    "                    'just',\n",
    "                    'like',\n",
    "                    'think',\n",
    "                    'game',\n",
    "                    'games',\n",
    "                   'im',\n",
    "                   'dont',\n",
    "                   'ive',\n",
    "                   'thats',\n",
    "                   'youre',\n",
    "                    'play',\n",
    "                    'playing',\n",
    "                    'time',\n",
    "                    'think',\n",
    "                    'thought',\n",
    "                   'make',\n",
    "                   'new',\n",
    "                   'did',\n",
    "                   'does',\n",
    "                   'really',\n",
    "                   'actually',\n",
    "                   'sure',\n",
    "                   'thing',\n",
    "                   'good',\n",
    "                   'know',\n",
    "                   'need',\n",
    "                   'want',\n",
    "                   'theres',\n",
    "                   'didnt']\n",
    "\n",
    "stop_words = text.ENGLISH_STOP_WORDS.union(custom_stopwords)\n",
    "\n",
    "#set lemmatizer and stemmer\n",
    "lemmatizer = WordNetLemmatizer()\n",
    "df['lemmatized'] = df['tokenized'].apply(lambda word_list:' '.join([lemmatizer.lemmatize(x) for x in word_list]))\n",
    "\n",
    "#found how to apply lemmatizer through stackoverflow\n",
    "\n",
    "p_stemmer = PorterStemmer()\n",
    "df['stemmed'] = df['tokenized'].apply(lambda word_list:' '.join([p_stemmer.stem(x) for x in word_list]))\n",
    "\n",
    "df.head(3)"
   ]
  },
  {
   "cell_type": "code",
   "execution_count": 9,
   "id": "8fcee211-2c84-458f-9b4e-300a684e8569",
   "metadata": {},
   "outputs": [
    {
     "data": {
      "text/html": [
       "<div>\n",
       "<style scoped>\n",
       "    .dataframe tbody tr th:only-of-type {\n",
       "        vertical-align: middle;\n",
       "    }\n",
       "\n",
       "    .dataframe tbody tr th {\n",
       "        vertical-align: top;\n",
       "    }\n",
       "\n",
       "    .dataframe thead th {\n",
       "        text-align: right;\n",
       "    }\n",
       "</style>\n",
       "<table border=\"1\" class=\"dataframe\">\n",
       "  <thead>\n",
       "    <tr style=\"text-align: right;\">\n",
       "      <th></th>\n",
       "      <th>0</th>\n",
       "      <th>0 amp</th>\n",
       "      <th>0 chance</th>\n",
       "      <th>0 hope</th>\n",
       "      <th>0150</th>\n",
       "      <th>0150 jumped</th>\n",
       "      <th>02</th>\n",
       "      <th>02 2021</th>\n",
       "      <th>02 chance</th>\n",
       "      <th>02 said</th>\n",
       "      <th>...</th>\n",
       "      <th>zullies newest</th>\n",
       "      <th>zuzu</th>\n",
       "      <th>zuzu city</th>\n",
       "      <th>zweiboy</th>\n",
       "      <th>zweiboy favourite</th>\n",
       "      <th>zweihander</th>\n",
       "      <th>zweihander zweiboy</th>\n",
       "      <th>ʖ</th>\n",
       "      <th>ω</th>\n",
       "      <th>ಠ_ಠ</th>\n",
       "    </tr>\n",
       "  </thead>\n",
       "  <tbody>\n",
       "    <tr>\n",
       "      <th>0</th>\n",
       "      <td>0</td>\n",
       "      <td>0</td>\n",
       "      <td>0</td>\n",
       "      <td>0</td>\n",
       "      <td>0</td>\n",
       "      <td>0</td>\n",
       "      <td>0</td>\n",
       "      <td>0</td>\n",
       "      <td>0</td>\n",
       "      <td>0</td>\n",
       "      <td>...</td>\n",
       "      <td>0</td>\n",
       "      <td>0</td>\n",
       "      <td>0</td>\n",
       "      <td>0</td>\n",
       "      <td>0</td>\n",
       "      <td>0</td>\n",
       "      <td>0</td>\n",
       "      <td>0</td>\n",
       "      <td>0</td>\n",
       "      <td>0</td>\n",
       "    </tr>\n",
       "    <tr>\n",
       "      <th>1</th>\n",
       "      <td>0</td>\n",
       "      <td>0</td>\n",
       "      <td>0</td>\n",
       "      <td>0</td>\n",
       "      <td>0</td>\n",
       "      <td>0</td>\n",
       "      <td>0</td>\n",
       "      <td>0</td>\n",
       "      <td>0</td>\n",
       "      <td>0</td>\n",
       "      <td>...</td>\n",
       "      <td>0</td>\n",
       "      <td>0</td>\n",
       "      <td>0</td>\n",
       "      <td>0</td>\n",
       "      <td>0</td>\n",
       "      <td>0</td>\n",
       "      <td>0</td>\n",
       "      <td>0</td>\n",
       "      <td>0</td>\n",
       "      <td>0</td>\n",
       "    </tr>\n",
       "    <tr>\n",
       "      <th>2</th>\n",
       "      <td>0</td>\n",
       "      <td>0</td>\n",
       "      <td>0</td>\n",
       "      <td>0</td>\n",
       "      <td>0</td>\n",
       "      <td>0</td>\n",
       "      <td>0</td>\n",
       "      <td>0</td>\n",
       "      <td>0</td>\n",
       "      <td>0</td>\n",
       "      <td>...</td>\n",
       "      <td>0</td>\n",
       "      <td>0</td>\n",
       "      <td>0</td>\n",
       "      <td>0</td>\n",
       "      <td>0</td>\n",
       "      <td>0</td>\n",
       "      <td>0</td>\n",
       "      <td>0</td>\n",
       "      <td>0</td>\n",
       "      <td>0</td>\n",
       "    </tr>\n",
       "  </tbody>\n",
       "</table>\n",
       "<p>3 rows × 31186 columns</p>\n",
       "</div>"
      ],
      "text/plain": [
       "   0  0 amp  0 chance  0 hope  0150  0150 jumped  02  02 2021  02 chance  \\\n",
       "0  0      0         0       0     0            0   0        0          0   \n",
       "1  0      0         0       0     0            0   0        0          0   \n",
       "2  0      0         0       0     0            0   0        0          0   \n",
       "\n",
       "   02 said  ...  zullies newest  zuzu  zuzu city  zweiboy  zweiboy favourite  \\\n",
       "0        0  ...               0     0          0        0                  0   \n",
       "1        0  ...               0     0          0        0                  0   \n",
       "2        0  ...               0     0          0        0                  0   \n",
       "\n",
       "   zweihander  zweihander zweiboy  ʖ  ω  ಠ_ಠ  \n",
       "0           0                   0  0  0    0  \n",
       "1           0                   0  0  0    0  \n",
       "2           0                   0  0  0    0  \n",
       "\n",
       "[3 rows x 31186 columns]"
      ]
     },
     "execution_count": 9,
     "metadata": {},
     "output_type": "execute_result"
    }
   ],
   "source": [
    "cvec = CountVectorizer(stop_words=stop_words, token_pattern=r'[^\\s]+', ngram_range=(1,2))\n",
    "#found token_pattern to incorporate any character (emojis) in stackoverflow\n",
    "\n",
    "P = df['body'] #learn fit to learn the whole dictionary\n",
    "\n",
    "cvecpost = cvec.fit_transform(P)\n",
    "\n",
    "postdf = pd.DataFrame(cvecpost.todense(),\n",
    "                         columns=cvec.get_feature_names())\n",
    "\n",
    "postdf.head(3)"
   ]
  },
  {
   "cell_type": "code",
   "execution_count": 10,
   "id": "dd7adb46-33c5-4bb1-8475-ba6b8496b2b7",
   "metadata": {},
   "outputs": [],
   "source": [
    "games = df.drop(columns=['author', 'title', 'selftext', 'body', 'lemmatized', 'stemmed', 'tokenized'])\n",
    "games['og_subreddit'] = games['subreddit']\n",
    "games.drop(columns=['subreddit'], inplace=True)\n",
    "df2 = pd.concat([postdf, games], axis=1)\n",
    "\n",
    "elden = df2[df2['og_subreddit'] == 'Eldenring']\n",
    "stardew = df2[df2['og_subreddit'] == 'StardewValley']"
   ]
  },
  {
   "cell_type": "code",
   "execution_count": 11,
   "id": "6f82da3d-1da5-40eb-baba-dd59db4805e3",
   "metadata": {},
   "outputs": [
    {
     "name": "stderr",
     "output_type": "stream",
     "text": [
      "/Users/karenchien/opt/anaconda3/lib/python3.9/site-packages/pandas/core/frame.py:4906: SettingWithCopyWarning: \n",
      "A value is trying to be set on a copy of a slice from a DataFrame\n",
      "\n",
      "See the caveats in the documentation: https://pandas.pydata.org/pandas-docs/stable/user_guide/indexing.html#returning-a-view-versus-a-copy\n",
      "  return super().drop(\n"
     ]
    }
   ],
   "source": [
    "elden.drop(columns=['og_subreddit'], inplace=True)\n",
    "stardew.drop(columns=['og_subreddit'], inplace=True)"
   ]
  },
  {
   "cell_type": "markdown",
   "id": "bf94d3c3-ba9a-4f13-884c-cdcef0efbea7",
   "metadata": {},
   "source": [
    "### EDA - Posts"
   ]
  },
  {
   "cell_type": "code",
   "execution_count": 12,
   "id": "5162e854-ff3e-4b29-ac5f-ed4e46a91cc0",
   "metadata": {},
   "outputs": [
    {
     "data": {
      "text/plain": [
       "<AxesSubplot:>"
      ]
     },
     "execution_count": 12,
     "metadata": {},
     "output_type": "execute_result"
    },
    {
     "data": {
      "image/png": "[encoded data removed]",
      "text/plain": [
       "<Figure size 432x288 with 1 Axes>"
      ]
     },
     "metadata": {
      "needs_background": "light"
     },
     "output_type": "display_data"
    }
   ],
   "source": [
    "postdf.sum().sort_values(ascending=False).head(25).plot.barh()"
   ]
  },
  {
   "cell_type": "code",
   "execution_count": 50,
   "id": "d6231567-baff-4077-9d89-ba34a34f1e0b",
   "metadata": {},
   "outputs": [],
   "source": [
    "eldenoverlap = elden.sum().sort_values(ascending=False).head(1559)"
   ]
  },
  {
   "cell_type": "code",
   "execution_count": 51,
   "id": "261c6d81-100a-4659-9134-4e6b1e5feaaa",
   "metadata": {},
   "outputs": [
    {
     "data": {
      "text/plain": [
       "(1559,)"
      ]
     },
     "execution_count": 51,
     "metadata": {},
     "output_type": "execute_result"
    }
   ],
   "source": [
    "eldenoverlap.shape"
   ]
  },
  {
   "cell_type": "code",
   "execution_count": 52,
   "id": "26379fb8-c76e-4020-ae31-6e934f24eee5",
   "metadata": {},
   "outputs": [
    {
     "data": {
      "text/html": [
       "<div>\n",
       "<style scoped>\n",
       "    .dataframe tbody tr th:only-of-type {\n",
       "        vertical-align: middle;\n",
       "    }\n",
       "\n",
       "    .dataframe tbody tr th {\n",
       "        vertical-align: top;\n",
       "    }\n",
       "\n",
       "    .dataframe thead th {\n",
       "        text-align: right;\n",
       "    }\n",
       "</style>\n",
       "<table border=\"1\" class=\"dataframe\">\n",
       "  <thead>\n",
       "    <tr style=\"text-align: right;\">\n",
       "      <th></th>\n",
       "      <th>word</th>\n",
       "      <th>count</th>\n",
       "    </tr>\n",
       "  </thead>\n",
       "  <tbody>\n",
       "    <tr>\n",
       "      <th>0</th>\n",
       "      <td>removed</td>\n",
       "      <td>95</td>\n",
       "    </tr>\n",
       "    <tr>\n",
       "      <th>1</th>\n",
       "      <td>souls</td>\n",
       "      <td>94</td>\n",
       "    </tr>\n",
       "    <tr>\n",
       "      <th>2</th>\n",
       "      <td>ampx200b</td>\n",
       "      <td>70</td>\n",
       "    </tr>\n",
       "  </tbody>\n",
       "</table>\n",
       "</div>"
      ],
      "text/plain": [
       "       word  count\n",
       "0   removed     95\n",
       "1     souls     94\n",
       "2  ampx200b     70"
      ]
     },
     "execution_count": 52,
     "metadata": {},
     "output_type": "execute_result"
    }
   ],
   "source": [
    "eldenoverlapdf = eldenoverlap.to_frame().reset_index()\n",
    "eldenoverlapdf.rename(columns = {'index' : 'word', 0 : 'count'}, inplace = True)\n",
    "\n",
    "eldenoverlapdf.head(3)"
   ]
  },
  {
   "cell_type": "code",
   "execution_count": 54,
   "id": "bc5b6c3c-4aec-49a1-8975-5aa6b0f3f421",
   "metadata": {},
   "outputs": [
    {
     "data": {
      "text/html": [
       "<div>\n",
       "<style scoped>\n",
       "    .dataframe tbody tr th:only-of-type {\n",
       "        vertical-align: middle;\n",
       "    }\n",
       "\n",
       "    .dataframe tbody tr th {\n",
       "        vertical-align: top;\n",
       "    }\n",
       "\n",
       "    .dataframe thead th {\n",
       "        text-align: right;\n",
       "    }\n",
       "</style>\n",
       "<table border=\"1\" class=\"dataframe\">\n",
       "  <thead>\n",
       "    <tr style=\"text-align: right;\">\n",
       "      <th></th>\n",
       "      <th>count</th>\n",
       "    </tr>\n",
       "  </thead>\n",
       "  <tbody>\n",
       "    <tr>\n",
       "      <th>count</th>\n",
       "      <td>1559.000000</td>\n",
       "    </tr>\n",
       "    <tr>\n",
       "      <th>mean</th>\n",
       "      <td>7.147530</td>\n",
       "    </tr>\n",
       "    <tr>\n",
       "      <th>std</th>\n",
       "      <td>8.010746</td>\n",
       "    </tr>\n",
       "    <tr>\n",
       "      <th>min</th>\n",
       "      <td>2.000000</td>\n",
       "    </tr>\n",
       "    <tr>\n",
       "      <th>25%</th>\n",
       "      <td>3.000000</td>\n",
       "    </tr>\n",
       "    <tr>\n",
       "      <th>50%</th>\n",
       "      <td>4.000000</td>\n",
       "    </tr>\n",
       "    <tr>\n",
       "      <th>75%</th>\n",
       "      <td>8.000000</td>\n",
       "    </tr>\n",
       "    <tr>\n",
       "      <th>max</th>\n",
       "      <td>95.000000</td>\n",
       "    </tr>\n",
       "  </tbody>\n",
       "</table>\n",
       "</div>"
      ],
      "text/plain": [
       "             count\n",
       "count  1559.000000\n",
       "mean      7.147530\n",
       "std       8.010746\n",
       "min       2.000000\n",
       "25%       3.000000\n",
       "50%       4.000000\n",
       "75%       8.000000\n",
       "max      95.000000"
      ]
     },
     "execution_count": 54,
     "metadata": {},
     "output_type": "execute_result"
    }
   ],
   "source": [
    "eldenoverlapdf.describe()"
   ]
  },
  {
   "cell_type": "code",
   "execution_count": 55,
   "id": "f7d58695-929f-4840-8230-c9ae020dd2d8",
   "metadata": {},
   "outputs": [],
   "source": [
    "eldenoverlapdf2 = eldenoverlapdf[eldenoverlapdf['count'] > 4]"
   ]
  },
  {
   "cell_type": "code",
   "execution_count": 56,
   "id": "783f7a2a-28e6-4072-a3e7-e7ffb1a27a93",
   "metadata": {},
   "outputs": [],
   "source": [
    "stardewoverlap = stardew.sum().sort_values(ascending=False).head(1559)"
   ]
  },
  {
   "cell_type": "code",
   "execution_count": 57,
   "id": "7415c806-3b7d-44c6-a698-34bd81ecf955",
   "metadata": {},
   "outputs": [
    {
     "data": {
      "text/html": [
       "<div>\n",
       "<style scoped>\n",
       "    .dataframe tbody tr th:only-of-type {\n",
       "        vertical-align: middle;\n",
       "    }\n",
       "\n",
       "    .dataframe tbody tr th {\n",
       "        vertical-align: top;\n",
       "    }\n",
       "\n",
       "    .dataframe thead th {\n",
       "        text-align: right;\n",
       "    }\n",
       "</style>\n",
       "<table border=\"1\" class=\"dataframe\">\n",
       "  <thead>\n",
       "    <tr style=\"text-align: right;\">\n",
       "      <th></th>\n",
       "      <th>word</th>\n",
       "      <th>count</th>\n",
       "    </tr>\n",
       "  </thead>\n",
       "  <tbody>\n",
       "    <tr>\n",
       "      <th>0</th>\n",
       "      <td>year</td>\n",
       "      <td>123</td>\n",
       "    </tr>\n",
       "    <tr>\n",
       "      <th>1</th>\n",
       "      <td>farm</td>\n",
       "      <td>122</td>\n",
       "    </tr>\n",
       "    <tr>\n",
       "      <th>2</th>\n",
       "      <td>got</td>\n",
       "      <td>115</td>\n",
       "    </tr>\n",
       "  </tbody>\n",
       "</table>\n",
       "</div>"
      ],
      "text/plain": [
       "   word  count\n",
       "0  year    123\n",
       "1  farm    122\n",
       "2   got    115"
      ]
     },
     "execution_count": 57,
     "metadata": {},
     "output_type": "execute_result"
    }
   ],
   "source": [
    "stardewoverlapdf = stardewoverlap.to_frame().reset_index()\n",
    "stardewoverlapdf.rename(columns = {'index' : 'word', 0 : 'count'}, inplace = True)\n",
    "\n",
    "stardewoverlapdf.head(3)"
   ]
  },
  {
   "cell_type": "code",
   "execution_count": 58,
   "id": "33a31b0d-f9ed-4a22-96d4-f719593796d4",
   "metadata": {},
   "outputs": [
    {
     "data": {
      "text/html": [
       "<div>\n",
       "<style scoped>\n",
       "    .dataframe tbody tr th:only-of-type {\n",
       "        vertical-align: middle;\n",
       "    }\n",
       "\n",
       "    .dataframe tbody tr th {\n",
       "        vertical-align: top;\n",
       "    }\n",
       "\n",
       "    .dataframe thead th {\n",
       "        text-align: right;\n",
       "    }\n",
       "</style>\n",
       "<table border=\"1\" class=\"dataframe\">\n",
       "  <thead>\n",
       "    <tr style=\"text-align: right;\">\n",
       "      <th></th>\n",
       "      <th>count</th>\n",
       "    </tr>\n",
       "  </thead>\n",
       "  <tbody>\n",
       "    <tr>\n",
       "      <th>count</th>\n",
       "      <td>1559.000000</td>\n",
       "    </tr>\n",
       "    <tr>\n",
       "      <th>mean</th>\n",
       "      <td>7.788326</td>\n",
       "    </tr>\n",
       "    <tr>\n",
       "      <th>std</th>\n",
       "      <td>9.255472</td>\n",
       "    </tr>\n",
       "    <tr>\n",
       "      <th>min</th>\n",
       "      <td>2.000000</td>\n",
       "    </tr>\n",
       "    <tr>\n",
       "      <th>25%</th>\n",
       "      <td>3.000000</td>\n",
       "    </tr>\n",
       "    <tr>\n",
       "      <th>50%</th>\n",
       "      <td>5.000000</td>\n",
       "    </tr>\n",
       "    <tr>\n",
       "      <th>75%</th>\n",
       "      <td>9.000000</td>\n",
       "    </tr>\n",
       "    <tr>\n",
       "      <th>max</th>\n",
       "      <td>123.000000</td>\n",
       "    </tr>\n",
       "  </tbody>\n",
       "</table>\n",
       "</div>"
      ],
      "text/plain": [
       "             count\n",
       "count  1559.000000\n",
       "mean      7.788326\n",
       "std       9.255472\n",
       "min       2.000000\n",
       "25%       3.000000\n",
       "50%       5.000000\n",
       "75%       9.000000\n",
       "max     123.000000"
      ]
     },
     "execution_count": 58,
     "metadata": {},
     "output_type": "execute_result"
    }
   ],
   "source": [
    "stardewoverlapdf.describe()"
   ]
  },
  {
   "cell_type": "code",
   "execution_count": 59,
   "id": "bcbe89fc-eb77-4b44-916f-8baff801e723",
   "metadata": {},
   "outputs": [],
   "source": [
    "stardewoverlapdf2 = stardewoverlapdf[stardewoverlapdf['count'] > 5]"
   ]
  },
  {
   "cell_type": "code",
   "execution_count": 60,
   "id": "37348fc2-d07a-4a4c-b990-11713138b6f7",
   "metadata": {},
   "outputs": [],
   "source": [
    "common_words = stardewoverlapdf2[stardewoverlapdf2['word'].isin(eldenoverlapdf2['word'])]\n",
    "\n",
    "common_words.to_csv('../data/overlappingwords2.csv', index=False)"
   ]
  },
  {
   "cell_type": "code",
   "execution_count": 19,
   "id": "936d688a-a6ca-4e69-a7ce-51a36f9d92a2",
   "metadata": {
    "scrolled": true,
    "tags": []
   },
   "outputs": [
    {
     "data": {
      "text/plain": [
       "Eldenring        0.783333\n",
       "StardewValley    0.216667\n",
       "Name: subreddit, dtype: float64"
      ]
     },
     "execution_count": 19,
     "metadata": {},
     "output_type": "execute_result"
    }
   ],
   "source": [
    "removedposts = df[df['body'].str.lower().str.contains('removed')]\n",
    "\n",
    "removedposts['subreddit'].value_counts(normalize=True)"
   ]
  },
  {
   "cell_type": "code",
   "execution_count": 20,
   "id": "4b9a0b41-9459-4c99-b5cb-4f79c300f055",
   "metadata": {},
   "outputs": [
    {
     "data": {
      "text/plain": [
       "StardewValley    0.583333\n",
       "Eldenring        0.416667\n",
       "Name: subreddit, dtype: float64"
      ]
     },
     "execution_count": 20,
     "metadata": {},
     "output_type": "execute_result"
    }
   ],
   "source": [
    "ampx = df[df['body'].str.lower().str.contains('ampx200b')]\n",
    "\n",
    "ampx['subreddit'].value_counts(normalize=True)"
   ]
  },
  {
   "cell_type": "markdown",
   "id": "e70799f4-45a8-45af-a781-36d13c32c7f8",
   "metadata": {},
   "source": [
    "### Observations\n",
    "- Of removed posts, most came from Eldenring\n",
    "- Specific words connected to gameplay pop up frequently in posts. For Eldenring this was \"soul\", Stardew Valley was \"farm.\"\n",
    "- Stardew Valley might be easier to find words in posts since other agricultural words appear such as \"spring\", \"winter,\" and \"fish.\""
   ]
  },
  {
   "cell_type": "code",
   "execution_count": 21,
   "id": "b80b2dae-1cc1-4cdb-8f58-91c35c71dd96",
   "metadata": {},
   "outputs": [],
   "source": [
    "stardewwords = ['fish', 'plant', 'fruit', 'crop', 'seed', 'farm', 'day', 'spring', 'winter', 'summer']\n",
    "eldenwords = ['soul', 'boss', 'dark']\n",
    "\n",
    "stardewtest = df[df['body'].str.lower().str.contains('|'.join(stardewwords))]\n",
    "eldentest = df[df['body'].str.lower().str.contains('|'.join(eldenwords))]"
   ]
  },
  {
   "cell_type": "code",
   "execution_count": 22,
   "id": "19fb36b3-dacf-4beb-89b5-44fcfd717df9",
   "metadata": {},
   "outputs": [
    {
     "data": {
      "text/plain": [
       "StardewValley    324\n",
       "Eldenring         76\n",
       "Name: subreddit, dtype: int64"
      ]
     },
     "execution_count": 22,
     "metadata": {},
     "output_type": "execute_result"
    }
   ],
   "source": [
    "stardewtest['subreddit'].value_counts()"
   ]
  },
  {
   "cell_type": "code",
   "execution_count": 23,
   "id": "aef82447-82f4-4c32-aa83-0f2eb9c5118b",
   "metadata": {},
   "outputs": [
    {
     "data": {
      "text/plain": [
       "Eldenring        115\n",
       "StardewValley      4\n",
       "Name: subreddit, dtype: int64"
      ]
     },
     "execution_count": 23,
     "metadata": {},
     "output_type": "execute_result"
    }
   ],
   "source": [
    "eldentest['subreddit'].value_counts()"
   ]
  },
  {
   "cell_type": "markdown",
   "id": "7d539a79-a1ce-4998-96c9-9dcea6e46945",
   "metadata": {},
   "source": [
    "### Feature Engineering Notes\n",
    "- By choosing to highlight if gameplay words appear in posts, this can provide meaningful classification for 25% of 2000 posts"
   ]
  },
  {
   "cell_type": "code",
   "execution_count": 24,
   "id": "953e7972-00be-43cf-b90f-a3d3de9ec64f",
   "metadata": {},
   "outputs": [],
   "source": [
    "df['stardew_keywords'] = df['body'].str.lower().str.contains('|'.join(stardewwords))\n",
    "df['elden_keywords'] = df['body'].str.lower().str.contains('|'.join(eldenwords))"
   ]
  },
  {
   "cell_type": "markdown",
   "id": "fe99900c-5d86-4fee-821e-0c1c38c90f25",
   "metadata": {},
   "source": [
    "### Exporting"
   ]
  },
  {
   "cell_type": "code",
   "execution_count": 25,
   "id": "ba017e0f-6dee-46c0-9327-3c26b0f42053",
   "metadata": {},
   "outputs": [
    {
     "data": {
      "text/html": [
       "<div>\n",
       "<style scoped>\n",
       "    .dataframe tbody tr th:only-of-type {\n",
       "        vertical-align: middle;\n",
       "    }\n",
       "\n",
       "    .dataframe tbody tr th {\n",
       "        vertical-align: top;\n",
       "    }\n",
       "\n",
       "    .dataframe thead th {\n",
       "        text-align: right;\n",
       "    }\n",
       "</style>\n",
       "<table border=\"1\" class=\"dataframe\">\n",
       "  <thead>\n",
       "    <tr style=\"text-align: right;\">\n",
       "      <th></th>\n",
       "      <th>subreddit</th>\n",
       "      <th>author</th>\n",
       "      <th>title</th>\n",
       "      <th>selftext</th>\n",
       "      <th>body</th>\n",
       "      <th>tokenized</th>\n",
       "      <th>lemmatized</th>\n",
       "      <th>stemmed</th>\n",
       "      <th>stardew_keywords</th>\n",
       "      <th>elden_keywords</th>\n",
       "    </tr>\n",
       "  </thead>\n",
       "  <tbody>\n",
       "    <tr>\n",
       "      <th>0</th>\n",
       "      <td>Eldenring</td>\n",
       "      <td>mrawesome11234</td>\n",
       "      <td>It is almost time my fellow hollows</td>\n",
       "      <td></td>\n",
       "      <td>It is almost time my fellow hollows</td>\n",
       "      <td>[It, is, almost, time, my, fellow, hollows]</td>\n",
       "      <td>It is almost time my fellow hollow</td>\n",
       "      <td>it is almost time my fellow hollow</td>\n",
       "      <td>False</td>\n",
       "      <td>False</td>\n",
       "    </tr>\n",
       "    <tr>\n",
       "      <th>1</th>\n",
       "      <td>Eldenring</td>\n",
       "      <td>Yurisanrollrrir</td>\n",
       "      <td>24 Hours yet remain...</td>\n",
       "      <td></td>\n",
       "      <td>24 Hours yet remain</td>\n",
       "      <td>[24, Hours, yet, remain]</td>\n",
       "      <td>24 Hours yet remain</td>\n",
       "      <td>24 hour yet remain</td>\n",
       "      <td>False</td>\n",
       "      <td>False</td>\n",
       "    </tr>\n",
       "    <tr>\n",
       "      <th>2</th>\n",
       "      <td>Eldenring</td>\n",
       "      <td>GlassedGhost</td>\n",
       "      <td>Your worst nightmares...</td>\n",
       "      <td></td>\n",
       "      <td>Your worst nightmares</td>\n",
       "      <td>[Your, worst, nightmares]</td>\n",
       "      <td>Your worst nightmare</td>\n",
       "      <td>your worst nightmar</td>\n",
       "      <td>False</td>\n",
       "      <td>False</td>\n",
       "    </tr>\n",
       "  </tbody>\n",
       "</table>\n",
       "</div>"
      ],
      "text/plain": [
       "   subreddit           author                                title selftext  \\\n",
       "0  Eldenring   mrawesome11234  It is almost time my fellow hollows            \n",
       "1  Eldenring  Yurisanrollrrir               24 Hours yet remain...            \n",
       "2  Eldenring     GlassedGhost             Your worst nightmares...            \n",
       "\n",
       "                                    body  \\\n",
       "0  It is almost time my fellow hollows     \n",
       "1                  24 Hours yet remain     \n",
       "2                Your worst nightmares     \n",
       "\n",
       "                                     tokenized  \\\n",
       "0  [It, is, almost, time, my, fellow, hollows]   \n",
       "1                     [24, Hours, yet, remain]   \n",
       "2                    [Your, worst, nightmares]   \n",
       "\n",
       "                           lemmatized                             stemmed  \\\n",
       "0  It is almost time my fellow hollow  it is almost time my fellow hollow   \n",
       "1                 24 Hours yet remain                  24 hour yet remain   \n",
       "2                Your worst nightmare                 your worst nightmar   \n",
       "\n",
       "   stardew_keywords  elden_keywords  \n",
       "0             False           False  \n",
       "1             False           False  \n",
       "2             False           False  "
      ]
     },
     "execution_count": 25,
     "metadata": {},
     "output_type": "execute_result"
    }
   ],
   "source": [
    "df.head(3)"
   ]
  },
  {
   "cell_type": "code",
   "execution_count": 26,
   "id": "b85b1f6b-9c04-4958-b4d4-5481eb6b724a",
   "metadata": {},
   "outputs": [
    {
     "name": "stderr",
     "output_type": "stream",
     "text": [
      "/var/folders/j4/fj647cj14gd9kk21c0z8rmm00000gn/T/ipykernel_3972/1360790319.py:2: SettingWithCopyWarning: \n",
      "A value is trying to be set on a copy of a slice from a DataFrame.\n",
      "Try using .loc[row_indexer,col_indexer] = value instead\n",
      "\n",
      "See the caveats in the documentation: https://pandas.pydata.org/pandas-docs/stable/user_guide/indexing.html#returning-a-view-versus-a-copy\n",
      "  cleandf['type'] = 'Posts'\n"
     ]
    },
    {
     "data": {
      "text/html": [
       "<div>\n",
       "<style scoped>\n",
       "    .dataframe tbody tr th:only-of-type {\n",
       "        vertical-align: middle;\n",
       "    }\n",
       "\n",
       "    .dataframe tbody tr th {\n",
       "        vertical-align: top;\n",
       "    }\n",
       "\n",
       "    .dataframe thead th {\n",
       "        text-align: right;\n",
       "    }\n",
       "</style>\n",
       "<table border=\"1\" class=\"dataframe\">\n",
       "  <thead>\n",
       "    <tr style=\"text-align: right;\">\n",
       "      <th></th>\n",
       "      <th>subreddit</th>\n",
       "      <th>body</th>\n",
       "      <th>lemmatized</th>\n",
       "      <th>stemmed</th>\n",
       "      <th>stardew_keywords</th>\n",
       "      <th>elden_keywords</th>\n",
       "      <th>type</th>\n",
       "    </tr>\n",
       "  </thead>\n",
       "  <tbody>\n",
       "    <tr>\n",
       "      <th>0</th>\n",
       "      <td>Eldenring</td>\n",
       "      <td>It is almost time my fellow hollows</td>\n",
       "      <td>It is almost time my fellow hollow</td>\n",
       "      <td>it is almost time my fellow hollow</td>\n",
       "      <td>False</td>\n",
       "      <td>False</td>\n",
       "      <td>Posts</td>\n",
       "    </tr>\n",
       "    <tr>\n",
       "      <th>1</th>\n",
       "      <td>Eldenring</td>\n",
       "      <td>24 Hours yet remain</td>\n",
       "      <td>24 Hours yet remain</td>\n",
       "      <td>24 hour yet remain</td>\n",
       "      <td>False</td>\n",
       "      <td>False</td>\n",
       "      <td>Posts</td>\n",
       "    </tr>\n",
       "    <tr>\n",
       "      <th>2</th>\n",
       "      <td>Eldenring</td>\n",
       "      <td>Your worst nightmares</td>\n",
       "      <td>Your worst nightmare</td>\n",
       "      <td>your worst nightmar</td>\n",
       "      <td>False</td>\n",
       "      <td>False</td>\n",
       "      <td>Posts</td>\n",
       "    </tr>\n",
       "  </tbody>\n",
       "</table>\n",
       "</div>"
      ],
      "text/plain": [
       "   subreddit                                   body  \\\n",
       "0  Eldenring  It is almost time my fellow hollows     \n",
       "1  Eldenring                  24 Hours yet remain     \n",
       "2  Eldenring                Your worst nightmares     \n",
       "\n",
       "                           lemmatized                             stemmed  \\\n",
       "0  It is almost time my fellow hollow  it is almost time my fellow hollow   \n",
       "1                 24 Hours yet remain                  24 hour yet remain   \n",
       "2                Your worst nightmare                 your worst nightmar   \n",
       "\n",
       "   stardew_keywords  elden_keywords   type  \n",
       "0             False           False  Posts  \n",
       "1             False           False  Posts  \n",
       "2             False           False  Posts  "
      ]
     },
     "execution_count": 26,
     "metadata": {},
     "output_type": "execute_result"
    }
   ],
   "source": [
    "cleandf = df[['subreddit', 'body', 'lemmatized', 'stemmed', 'stardew_keywords', 'elden_keywords']]\n",
    "cleandf['type'] = 'Posts'\n",
    "\n",
    "cleandf.head(3)"
   ]
  },
  {
   "cell_type": "code",
   "execution_count": 27,
   "id": "1f600a56-126a-41de-a937-272ddc1c28ab",
   "metadata": {},
   "outputs": [],
   "source": [
    "#cleandf.to_csv('../data/cleanposts.csv', index=False)"
   ]
  }
 ],
 "metadata": {
  "kernelspec": {
   "display_name": "Python 3 (ipykernel)",
   "language": "python",
   "name": "python3"
  },
  "language_info": {
   "codemirror_mode": {
    "name": "ipython",
    "version": 3
   },
   "file_extension": ".py",
   "mimetype": "text/x-python",
   "name": "python",
   "nbconvert_exporter": "python",
   "pygments_lexer": "ipython3",
   "version": "3.9.7"
  }
 },
 "nbformat": 4,
 "nbformat_minor": 5
}
